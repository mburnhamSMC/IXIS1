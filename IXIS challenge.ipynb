{
 "cells": [
  {
   "cell_type": "code",
   "execution_count": 464,
   "metadata": {},
   "outputs": [],
   "source": [
    "#loading packages\n",
    "library(tidyverse)\n",
    "\n",
    "library(stringr)\n",
    "\n",
    "library(plyr)\n",
    "\n",
    "library(dplyr)\n",
    "\n",
    "library(openxlsx)\n",
    "\n",
    "library(ggplot2)"
   ]
  },
  {
   "cell_type": "code",
   "execution_count": 465,
   "metadata": {},
   "outputs": [
    {
     "name": "stderr",
     "output_type": "stream",
     "text": [
      "Parsed with column specification:\n",
      "cols(\n",
      "  dim_year = \u001b[32mcol_double()\u001b[39m,\n",
      "  dim_month = \u001b[32mcol_double()\u001b[39m,\n",
      "  addsToCart = \u001b[32mcol_double()\u001b[39m\n",
      ")\n",
      "\n",
      "Parsed with column specification:\n",
      "cols(\n",
      "  dim_browser = \u001b[31mcol_character()\u001b[39m,\n",
      "  dim_deviceCategory = \u001b[31mcol_character()\u001b[39m,\n",
      "  dim_date = \u001b[31mcol_character()\u001b[39m,\n",
      "  sessions = \u001b[32mcol_double()\u001b[39m,\n",
      "  transactions = \u001b[32mcol_double()\u001b[39m,\n",
      "  QTY = \u001b[32mcol_double()\u001b[39m\n",
      ")\n",
      "\n"
     ]
    },
    {
     "data": {
      "text/html": [
       "<table>\n",
       "<caption>A tibble: 6 × 3</caption>\n",
       "<thead>\n",
       "\t<tr><th scope=col>dim_year</th><th scope=col>dim_month</th><th scope=col>addsToCart</th></tr>\n",
       "\t<tr><th scope=col>&lt;dbl&gt;</th><th scope=col>&lt;dbl&gt;</th><th scope=col>&lt;dbl&gt;</th></tr>\n",
       "</thead>\n",
       "<tbody>\n",
       "\t<tr><td>2012</td><td> 7</td><td>191504</td></tr>\n",
       "\t<tr><td>2012</td><td> 8</td><td>217666</td></tr>\n",
       "\t<tr><td>2012</td><td> 9</td><td>123726</td></tr>\n",
       "\t<tr><td>2012</td><td>10</td><td>139803</td></tr>\n",
       "\t<tr><td>2012</td><td>11</td><td>186572</td></tr>\n",
       "\t<tr><td>2012</td><td>12</td><td>168972</td></tr>\n",
       "</tbody>\n",
       "</table>\n"
      ],
      "text/latex": [
       "A tibble: 6 × 3\n",
       "\\begin{tabular}{lll}\n",
       " dim\\_year & dim\\_month & addsToCart\\\\\n",
       " <dbl> & <dbl> & <dbl>\\\\\n",
       "\\hline\n",
       "\t 2012 &  7 & 191504\\\\\n",
       "\t 2012 &  8 & 217666\\\\\n",
       "\t 2012 &  9 & 123726\\\\\n",
       "\t 2012 & 10 & 139803\\\\\n",
       "\t 2012 & 11 & 186572\\\\\n",
       "\t 2012 & 12 & 168972\\\\\n",
       "\\end{tabular}\n"
      ],
      "text/markdown": [
       "\n",
       "A tibble: 6 × 3\n",
       "\n",
       "| dim_year &lt;dbl&gt; | dim_month &lt;dbl&gt; | addsToCart &lt;dbl&gt; |\n",
       "|---|---|---|\n",
       "| 2012 |  7 | 191504 |\n",
       "| 2012 |  8 | 217666 |\n",
       "| 2012 |  9 | 123726 |\n",
       "| 2012 | 10 | 139803 |\n",
       "| 2012 | 11 | 186572 |\n",
       "| 2012 | 12 | 168972 |\n",
       "\n"
      ],
      "text/plain": [
       "  dim_year dim_month addsToCart\n",
       "1 2012      7        191504    \n",
       "2 2012      8        217666    \n",
       "3 2012      9        123726    \n",
       "4 2012     10        139803    \n",
       "5 2012     11        186572    \n",
       "6 2012     12        168972    "
      ]
     },
     "metadata": {},
     "output_type": "display_data"
    },
    {
     "data": {
      "text/html": [
       "<table>\n",
       "<caption>A tibble: 6 × 6</caption>\n",
       "<thead>\n",
       "\t<tr><th scope=col>dim_browser</th><th scope=col>dim_deviceCategory</th><th scope=col>dim_date</th><th scope=col>sessions</th><th scope=col>transactions</th><th scope=col>QTY</th></tr>\n",
       "\t<tr><th scope=col>&lt;chr&gt;</th><th scope=col>&lt;chr&gt;</th><th scope=col>&lt;chr&gt;</th><th scope=col>&lt;dbl&gt;</th><th scope=col>&lt;dbl&gt;</th><th scope=col>&lt;dbl&gt;</th></tr>\n",
       "</thead>\n",
       "<tbody>\n",
       "\t<tr><td>Safari           </td><td>tablet </td><td>7/1/12</td><td>2928</td><td>127</td><td>221</td></tr>\n",
       "\t<tr><td>Internet Explorer</td><td>desktop</td><td>7/1/12</td><td>1106</td><td> 28</td><td>  0</td></tr>\n",
       "\t<tr><td>Chrome           </td><td>tablet </td><td>7/1/12</td><td> 474</td><td>  3</td><td> 13</td></tr>\n",
       "\t<tr><td>Amazon Silk      </td><td>tablet </td><td>7/1/12</td><td> 235</td><td>  4</td><td>  5</td></tr>\n",
       "\t<tr><td>Internet Explorer</td><td>mobile </td><td>7/1/12</td><td> 178</td><td>  6</td><td> 11</td></tr>\n",
       "\t<tr><td>Internet Explorer</td><td>tablet </td><td>7/1/12</td><td> 120</td><td>  7</td><td>  0</td></tr>\n",
       "</tbody>\n",
       "</table>\n"
      ],
      "text/latex": [
       "A tibble: 6 × 6\n",
       "\\begin{tabular}{llllll}\n",
       " dim\\_browser & dim\\_deviceCategory & dim\\_date & sessions & transactions & QTY\\\\\n",
       " <chr> & <chr> & <chr> & <dbl> & <dbl> & <dbl>\\\\\n",
       "\\hline\n",
       "\t Safari            & tablet  & 7/1/12 & 2928 & 127 & 221\\\\\n",
       "\t Internet Explorer & desktop & 7/1/12 & 1106 &  28 &   0\\\\\n",
       "\t Chrome            & tablet  & 7/1/12 &  474 &   3 &  13\\\\\n",
       "\t Amazon Silk       & tablet  & 7/1/12 &  235 &   4 &   5\\\\\n",
       "\t Internet Explorer & mobile  & 7/1/12 &  178 &   6 &  11\\\\\n",
       "\t Internet Explorer & tablet  & 7/1/12 &  120 &   7 &   0\\\\\n",
       "\\end{tabular}\n"
      ],
      "text/markdown": [
       "\n",
       "A tibble: 6 × 6\n",
       "\n",
       "| dim_browser &lt;chr&gt; | dim_deviceCategory &lt;chr&gt; | dim_date &lt;chr&gt; | sessions &lt;dbl&gt; | transactions &lt;dbl&gt; | QTY &lt;dbl&gt; |\n",
       "|---|---|---|---|---|---|\n",
       "| Safari            | tablet  | 7/1/12 | 2928 | 127 | 221 |\n",
       "| Internet Explorer | desktop | 7/1/12 | 1106 |  28 |   0 |\n",
       "| Chrome            | tablet  | 7/1/12 |  474 |   3 |  13 |\n",
       "| Amazon Silk       | tablet  | 7/1/12 |  235 |   4 |   5 |\n",
       "| Internet Explorer | mobile  | 7/1/12 |  178 |   6 |  11 |\n",
       "| Internet Explorer | tablet  | 7/1/12 |  120 |   7 |   0 |\n",
       "\n"
      ],
      "text/plain": [
       "  dim_browser       dim_deviceCategory dim_date sessions transactions QTY\n",
       "1 Safari            tablet             7/1/12   2928     127          221\n",
       "2 Internet Explorer desktop            7/1/12   1106      28            0\n",
       "3 Chrome            tablet             7/1/12    474       3           13\n",
       "4 Amazon Silk       tablet             7/1/12    235       4            5\n",
       "5 Internet Explorer mobile             7/1/12    178       6           11\n",
       "6 Internet Explorer tablet             7/1/12    120       7            0"
      ]
     },
     "metadata": {},
     "output_type": "display_data"
    }
   ],
   "source": [
    "#loading data\n",
    "\n",
    "TotalAdds <- read_csv(\"DataAnalyst_Ecom_data_addsToCart.csv\")\n",
    "DeviceSpecs <- read_csv(\"DataAnalyst_Ecom_data_sessionCounts.csv\")\n",
    "\n",
    "head(TotalAdds)\n",
    "head(DeviceSpecs)"
   ]
  },
  {
   "cell_type": "code",
   "execution_count": 466,
   "metadata": {},
   "outputs": [
    {
     "data": {
      "text/plain": [
       "    dim_year      dim_month       addsToCart    \n",
       " Min.   :2012   Min.   : 1.00   Min.   :107970  \n",
       " 1st Qu.:2012   1st Qu.: 3.75   1st Qu.:132843  \n",
       " Median :2012   Median : 6.50   Median :143711  \n",
       " Mean   :2012   Mean   : 6.50   Mean   :154173  \n",
       " 3rd Qu.:2013   3rd Qu.: 9.25   3rd Qu.:184525  \n",
       " Max.   :2013   Max.   :12.00   Max.   :217666  "
      ]
     },
     "metadata": {},
     "output_type": "display_data"
    },
    {
     "data": {
      "text/plain": [
       " dim_browser        dim_deviceCategory   dim_date            sessions    \n",
       " Length:7734        Length:7734        Length:7734        Min.   :    0  \n",
       " Class :character   Class :character   Class :character   1st Qu.:    3  \n",
       " Mode  :character   Mode  :character   Mode  :character   Median :   23  \n",
       "                                                          Mean   : 1347  \n",
       "                                                          3rd Qu.:  772  \n",
       "                                                          Max.   :43559  \n",
       "  transactions          QTY         \n",
       " Min.   :   0.00   Min.   :   0.00  \n",
       " 1st Qu.:   0.00   1st Qu.:   0.00  \n",
       " Median :   0.00   Median :   0.00  \n",
       " Mean   :  32.28   Mean   :  58.29  \n",
       " 3rd Qu.:   9.00   3rd Qu.:  12.00  \n",
       " Max.   :1398.00   Max.   :2665.00  "
      ]
     },
     "metadata": {},
     "output_type": "display_data"
    }
   ],
   "source": [
    "#EDA\n",
    "summary(TotalAdds)\n",
    "summary(DeviceSpecs)"
   ]
  },
  {
   "cell_type": "markdown",
   "metadata": {},
   "source": [
    "# Creating a Month * Device aggregation of data"
   ]
  },
  {
   "cell_type": "code",
   "execution_count": 491,
   "metadata": {},
   "outputs": [],
   "source": [
    "#editing date to just hold the month value\n",
    "dateVals <- unique(DeviceSpecs$dim_date) \n",
    "DeviceSpecs$month <- str_extract(DeviceSpecs$dim_date,\"12|11|10|9|8|7|6|5|4|3|2|1\") \n",
    "dateVals <- unique(DeviceSpecs$month) "
   ]
  },
  {
   "cell_type": "code",
   "execution_count": 468,
   "metadata": {},
   "outputs": [],
   "source": [
    "#changing month type to numeric\n",
    "DeviceSpecs$month <-  as.numeric(DeviceSpecs$month)\n",
    "#summary(DeviceSpecs)"
   ]
  },
  {
   "cell_type": "code",
   "execution_count": 492,
   "metadata": {},
   "outputs": [
    {
     "data": {
      "text/html": [
       "<table>\n",
       "<caption>A tibble: 6 × 5</caption>\n",
       "<thead>\n",
       "\t<tr><th scope=col>dim_deviceCategory</th><th scope=col>sessions</th><th scope=col>transactions</th><th scope=col>QTY</th><th scope=col>month</th></tr>\n",
       "\t<tr><th scope=col>&lt;chr&gt;</th><th scope=col>&lt;dbl&gt;</th><th scope=col>&lt;dbl&gt;</th><th scope=col>&lt;dbl&gt;</th><th scope=col>&lt;chr&gt;</th></tr>\n",
       "</thead>\n",
       "<tbody>\n",
       "\t<tr><td>tablet </td><td>2928</td><td>127</td><td>221</td><td>7</td></tr>\n",
       "\t<tr><td>desktop</td><td>1106</td><td> 28</td><td>  0</td><td>7</td></tr>\n",
       "\t<tr><td>tablet </td><td> 474</td><td>  3</td><td> 13</td><td>7</td></tr>\n",
       "\t<tr><td>tablet </td><td> 235</td><td>  4</td><td>  5</td><td>7</td></tr>\n",
       "\t<tr><td>mobile </td><td> 178</td><td>  6</td><td> 11</td><td>7</td></tr>\n",
       "\t<tr><td>tablet </td><td> 120</td><td>  7</td><td>  0</td><td>7</td></tr>\n",
       "</tbody>\n",
       "</table>\n"
      ],
      "text/latex": [
       "A tibble: 6 × 5\n",
       "\\begin{tabular}{lllll}\n",
       " dim\\_deviceCategory & sessions & transactions & QTY & month\\\\\n",
       " <chr> & <dbl> & <dbl> & <dbl> & <chr>\\\\\n",
       "\\hline\n",
       "\t tablet  & 2928 & 127 & 221 & 7\\\\\n",
       "\t desktop & 1106 &  28 &   0 & 7\\\\\n",
       "\t tablet  &  474 &   3 &  13 & 7\\\\\n",
       "\t tablet  &  235 &   4 &   5 & 7\\\\\n",
       "\t mobile  &  178 &   6 &  11 & 7\\\\\n",
       "\t tablet  &  120 &   7 &   0 & 7\\\\\n",
       "\\end{tabular}\n"
      ],
      "text/markdown": [
       "\n",
       "A tibble: 6 × 5\n",
       "\n",
       "| dim_deviceCategory &lt;chr&gt; | sessions &lt;dbl&gt; | transactions &lt;dbl&gt; | QTY &lt;dbl&gt; | month &lt;chr&gt; |\n",
       "|---|---|---|---|---|\n",
       "| tablet  | 2928 | 127 | 221 | 7 |\n",
       "| desktop | 1106 |  28 |   0 | 7 |\n",
       "| tablet  |  474 |   3 |  13 | 7 |\n",
       "| tablet  |  235 |   4 |   5 | 7 |\n",
       "| mobile  |  178 |   6 |  11 | 7 |\n",
       "| tablet  |  120 |   7 |   0 | 7 |\n",
       "\n"
      ],
      "text/plain": [
       "  dim_deviceCategory sessions transactions QTY month\n",
       "1 tablet             2928     127          221 7    \n",
       "2 desktop            1106      28            0 7    \n",
       "3 tablet              474       3           13 7    \n",
       "4 tablet              235       4            5 7    \n",
       "5 mobile              178       6           11 7    \n",
       "6 tablet              120       7            0 7    "
      ]
     },
     "metadata": {},
     "output_type": "display_data"
    }
   ],
   "source": [
    "#getting rid of dim_browser and dim_date since they are not relevant\n",
    "DeviceSpecs2 <- DeviceSpecs[c(-1,-3)]\n",
    "head(DeviceSpecs2)"
   ]
  },
  {
   "cell_type": "code",
   "execution_count": 493,
   "metadata": {},
   "outputs": [
    {
     "data": {
      "text/html": [
       "<table>\n",
       "<caption>A data.frame: 6 × 5</caption>\n",
       "<thead>\n",
       "\t<tr><th></th><th scope=col>month</th><th scope=col>dim_deviceCategory</th><th scope=col>sessions</th><th scope=col>transactions</th><th scope=col>QTY</th></tr>\n",
       "\t<tr><th></th><th scope=col>&lt;chr&gt;</th><th scope=col>&lt;chr&gt;</th><th scope=col>&lt;dbl&gt;</th><th scope=col>&lt;dbl&gt;</th><th scope=col>&lt;dbl&gt;</th></tr>\n",
       "</thead>\n",
       "<tbody>\n",
       "\t<tr><th scope=row>1</th><td>1 </td><td>desktop</td><td>393723</td><td>13793</td><td>25424</td></tr>\n",
       "\t<tr><th scope=row>2</th><td>1 </td><td>mobile </td><td>341668</td><td> 4360</td><td> 7257</td></tr>\n",
       "\t<tr><th scope=row>3</th><td>1 </td><td>tablet </td><td>164601</td><td> 3407</td><td> 6165</td></tr>\n",
       "\t<tr><th scope=row>4</th><td>10</td><td>desktop</td><td>302682</td><td> 9373</td><td>17675</td></tr>\n",
       "\t<tr><th scope=row>5</th><td>10</td><td>mobile </td><td>238849</td><td> 2418</td><td> 4446</td></tr>\n",
       "\t<tr><th scope=row>6</th><td>10</td><td>tablet </td><td>107108</td><td> 2484</td><td> 4505</td></tr>\n",
       "</tbody>\n",
       "</table>\n"
      ],
      "text/latex": [
       "A data.frame: 6 × 5\n",
       "\\begin{tabular}{r|lllll}\n",
       "  & month & dim\\_deviceCategory & sessions & transactions & QTY\\\\\n",
       "  & <chr> & <chr> & <dbl> & <dbl> & <dbl>\\\\\n",
       "\\hline\n",
       "\t1 & 1  & desktop & 393723 & 13793 & 25424\\\\\n",
       "\t2 & 1  & mobile  & 341668 &  4360 &  7257\\\\\n",
       "\t3 & 1  & tablet  & 164601 &  3407 &  6165\\\\\n",
       "\t4 & 10 & desktop & 302682 &  9373 & 17675\\\\\n",
       "\t5 & 10 & mobile  & 238849 &  2418 &  4446\\\\\n",
       "\t6 & 10 & tablet  & 107108 &  2484 &  4505\\\\\n",
       "\\end{tabular}\n"
      ],
      "text/markdown": [
       "\n",
       "A data.frame: 6 × 5\n",
       "\n",
       "| <!--/--> | month &lt;chr&gt; | dim_deviceCategory &lt;chr&gt; | sessions &lt;dbl&gt; | transactions &lt;dbl&gt; | QTY &lt;dbl&gt; |\n",
       "|---|---|---|---|---|---|\n",
       "| 1 | 1  | desktop | 393723 | 13793 | 25424 |\n",
       "| 2 | 1  | mobile  | 341668 |  4360 |  7257 |\n",
       "| 3 | 1  | tablet  | 164601 |  3407 |  6165 |\n",
       "| 4 | 10 | desktop | 302682 |  9373 | 17675 |\n",
       "| 5 | 10 | mobile  | 238849 |  2418 |  4446 |\n",
       "| 6 | 10 | tablet  | 107108 |  2484 |  4505 |\n",
       "\n"
      ],
      "text/plain": [
       "  month dim_deviceCategory sessions transactions QTY  \n",
       "1 1     desktop            393723   13793        25424\n",
       "2 1     mobile             341668    4360         7257\n",
       "3 1     tablet             164601    3407         6165\n",
       "4 10    desktop            302682    9373        17675\n",
       "5 10    mobile             238849    2418         4446\n",
       "6 10    tablet             107108    2484         4505"
      ]
     },
     "metadata": {},
     "output_type": "display_data"
    }
   ],
   "source": [
    "#aggregate based on month and dim_deviceCategory\n",
    "DeviceSpecsSum <- ddply(DeviceSpecs,.(month,dim_deviceCategory),numcolwise(sum))\n",
    "head(DeviceSpecsSum)"
   ]
  },
  {
   "cell_type": "code",
   "execution_count": 471,
   "metadata": {},
   "outputs": [
    {
     "data": {
      "text/html": [
       "<table>\n",
       "<caption>A data.frame: 6 × 6</caption>\n",
       "<thead>\n",
       "\t<tr><th></th><th scope=col>month</th><th scope=col>dim_deviceCategory</th><th scope=col>sessions</th><th scope=col>transactions</th><th scope=col>QTY</th><th scope=col>ECR</th></tr>\n",
       "\t<tr><th></th><th scope=col>&lt;dbl&gt;</th><th scope=col>&lt;chr&gt;</th><th scope=col>&lt;dbl&gt;</th><th scope=col>&lt;dbl&gt;</th><th scope=col>&lt;dbl&gt;</th><th scope=col>&lt;dbl&gt;</th></tr>\n",
       "</thead>\n",
       "<tbody>\n",
       "\t<tr><th scope=row>1</th><td>1</td><td>desktop</td><td>393723</td><td>13793</td><td>25424</td><td>0.03503224</td></tr>\n",
       "\t<tr><th scope=row>2</th><td>1</td><td>mobile </td><td>341668</td><td> 4360</td><td> 7257</td><td>0.01276093</td></tr>\n",
       "\t<tr><th scope=row>3</th><td>1</td><td>tablet </td><td>164601</td><td> 3407</td><td> 6165</td><td>0.02069854</td></tr>\n",
       "\t<tr><th scope=row>4</th><td>2</td><td>desktop</td><td>247632</td><td> 9699</td><td>18437</td><td>0.03916699</td></tr>\n",
       "\t<tr><th scope=row>5</th><td>2</td><td>mobile </td><td>194996</td><td> 2071</td><td> 3915</td><td>0.01062073</td></tr>\n",
       "\t<tr><th scope=row>6</th><td>2</td><td>tablet </td><td>107599</td><td> 2396</td><td> 4696</td><td>0.02226786</td></tr>\n",
       "</tbody>\n",
       "</table>\n"
      ],
      "text/latex": [
       "A data.frame: 6 × 6\n",
       "\\begin{tabular}{r|llllll}\n",
       "  & month & dim\\_deviceCategory & sessions & transactions & QTY & ECR\\\\\n",
       "  & <dbl> & <chr> & <dbl> & <dbl> & <dbl> & <dbl>\\\\\n",
       "\\hline\n",
       "\t1 & 1 & desktop & 393723 & 13793 & 25424 & 0.03503224\\\\\n",
       "\t2 & 1 & mobile  & 341668 &  4360 &  7257 & 0.01276093\\\\\n",
       "\t3 & 1 & tablet  & 164601 &  3407 &  6165 & 0.02069854\\\\\n",
       "\t4 & 2 & desktop & 247632 &  9699 & 18437 & 0.03916699\\\\\n",
       "\t5 & 2 & mobile  & 194996 &  2071 &  3915 & 0.01062073\\\\\n",
       "\t6 & 2 & tablet  & 107599 &  2396 &  4696 & 0.02226786\\\\\n",
       "\\end{tabular}\n"
      ],
      "text/markdown": [
       "\n",
       "A data.frame: 6 × 6\n",
       "\n",
       "| <!--/--> | month &lt;dbl&gt; | dim_deviceCategory &lt;chr&gt; | sessions &lt;dbl&gt; | transactions &lt;dbl&gt; | QTY &lt;dbl&gt; | ECR &lt;dbl&gt; |\n",
       "|---|---|---|---|---|---|---|\n",
       "| 1 | 1 | desktop | 393723 | 13793 | 25424 | 0.03503224 |\n",
       "| 2 | 1 | mobile  | 341668 |  4360 |  7257 | 0.01276093 |\n",
       "| 3 | 1 | tablet  | 164601 |  3407 |  6165 | 0.02069854 |\n",
       "| 4 | 2 | desktop | 247632 |  9699 | 18437 | 0.03916699 |\n",
       "| 5 | 2 | mobile  | 194996 |  2071 |  3915 | 0.01062073 |\n",
       "| 6 | 2 | tablet  | 107599 |  2396 |  4696 | 0.02226786 |\n",
       "\n"
      ],
      "text/plain": [
       "  month dim_deviceCategory sessions transactions QTY   ECR       \n",
       "1 1     desktop            393723   13793        25424 0.03503224\n",
       "2 1     mobile             341668    4360         7257 0.01276093\n",
       "3 1     tablet             164601    3407         6165 0.02069854\n",
       "4 2     desktop            247632    9699        18437 0.03916699\n",
       "5 2     mobile             194996    2071         3915 0.01062073\n",
       "6 2     tablet             107599    2396         4696 0.02226786"
      ]
     },
     "metadata": {},
     "output_type": "display_data"
    }
   ],
   "source": [
    "#adding a ECR (= Transactions / Sessions) variable\n",
    "DeviceSpecsSum$ECR <- DeviceSpecsSum$transactions/DeviceSpecsSum$sessions\n",
    "head(DeviceSpecsSum)\n",
    "MonthDevice <- DeviceSpecsSum"
   ]
  },
  {
   "cell_type": "code",
   "execution_count": 472,
   "metadata": {},
   "outputs": [
    {
     "data": {
      "text/html": [
       "<table>\n",
       "<caption>A tibble: 6 × 13</caption>\n",
       "<thead>\n",
       "\t<tr><th scope=col>month</th><th scope=col>sessions_desktop</th><th scope=col>sessions_mobile</th><th scope=col>sessions_tablet</th><th scope=col>transactions_desktop</th><th scope=col>transactions_mobile</th><th scope=col>transactions_tablet</th><th scope=col>QTY_desktop</th><th scope=col>QTY_mobile</th><th scope=col>QTY_tablet</th><th scope=col>ECR_desktop</th><th scope=col>ECR_mobile</th><th scope=col>ECR_tablet</th></tr>\n",
       "\t<tr><th scope=col>&lt;dbl&gt;</th><th scope=col>&lt;dbl&gt;</th><th scope=col>&lt;dbl&gt;</th><th scope=col>&lt;dbl&gt;</th><th scope=col>&lt;dbl&gt;</th><th scope=col>&lt;dbl&gt;</th><th scope=col>&lt;dbl&gt;</th><th scope=col>&lt;dbl&gt;</th><th scope=col>&lt;dbl&gt;</th><th scope=col>&lt;dbl&gt;</th><th scope=col>&lt;dbl&gt;</th><th scope=col>&lt;dbl&gt;</th><th scope=col>&lt;dbl&gt;</th></tr>\n",
       "</thead>\n",
       "<tbody>\n",
       "\t<tr><td>1</td><td>393723</td><td>341668</td><td>164601</td><td>13793</td><td>4360</td><td>3407</td><td>25424</td><td> 7257</td><td> 6165</td><td>0.03503224</td><td>0.012760926</td><td>0.02069854</td></tr>\n",
       "\t<tr><td>2</td><td>247632</td><td>194996</td><td>107599</td><td> 9699</td><td>2071</td><td>2396</td><td>18437</td><td> 3915</td><td> 4696</td><td>0.03916699</td><td>0.010620731</td><td>0.02226786</td></tr>\n",
       "\t<tr><td>3</td><td>287837</td><td>304832</td><td>196151</td><td> 9679</td><td>3644</td><td>4481</td><td>17362</td><td> 6455</td><td> 8265</td><td>0.03362667</td><td>0.011954126</td><td>0.02284465</td></tr>\n",
       "\t<tr><td>4</td><td>567510</td><td>429864</td><td>299239</td><td>18868</td><td>4280</td><td>7221</td><td>34200</td><td> 7752</td><td>12994</td><td>0.03324699</td><td>0.009956637</td><td>0.02413121</td></tr>\n",
       "\t<tr><td>5</td><td>526330</td><td>409796</td><td>228513</td><td>18176</td><td>5413</td><td>4800</td><td>33208</td><td> 9790</td><td> 8631</td><td>0.03453347</td><td>0.013209011</td><td>0.02100537</td></tr>\n",
       "\t<tr><td>6</td><td>554940</td><td>526481</td><td>307413</td><td>19370</td><td>7412</td><td>7756</td><td>35146</td><td>13017</td><td>13728</td><td>0.03490467</td><td>0.014078381</td><td>0.02522990</td></tr>\n",
       "</tbody>\n",
       "</table>\n"
      ],
      "text/latex": [
       "A tibble: 6 × 13\n",
       "\\begin{tabular}{lllllllllllll}\n",
       " month & sessions\\_desktop & sessions\\_mobile & sessions\\_tablet & transactions\\_desktop & transactions\\_mobile & transactions\\_tablet & QTY\\_desktop & QTY\\_mobile & QTY\\_tablet & ECR\\_desktop & ECR\\_mobile & ECR\\_tablet\\\\\n",
       " <dbl> & <dbl> & <dbl> & <dbl> & <dbl> & <dbl> & <dbl> & <dbl> & <dbl> & <dbl> & <dbl> & <dbl> & <dbl>\\\\\n",
       "\\hline\n",
       "\t 1 & 393723 & 341668 & 164601 & 13793 & 4360 & 3407 & 25424 &  7257 &  6165 & 0.03503224 & 0.012760926 & 0.02069854\\\\\n",
       "\t 2 & 247632 & 194996 & 107599 &  9699 & 2071 & 2396 & 18437 &  3915 &  4696 & 0.03916699 & 0.010620731 & 0.02226786\\\\\n",
       "\t 3 & 287837 & 304832 & 196151 &  9679 & 3644 & 4481 & 17362 &  6455 &  8265 & 0.03362667 & 0.011954126 & 0.02284465\\\\\n",
       "\t 4 & 567510 & 429864 & 299239 & 18868 & 4280 & 7221 & 34200 &  7752 & 12994 & 0.03324699 & 0.009956637 & 0.02413121\\\\\n",
       "\t 5 & 526330 & 409796 & 228513 & 18176 & 5413 & 4800 & 33208 &  9790 &  8631 & 0.03453347 & 0.013209011 & 0.02100537\\\\\n",
       "\t 6 & 554940 & 526481 & 307413 & 19370 & 7412 & 7756 & 35146 & 13017 & 13728 & 0.03490467 & 0.014078381 & 0.02522990\\\\\n",
       "\\end{tabular}\n"
      ],
      "text/markdown": [
       "\n",
       "A tibble: 6 × 13\n",
       "\n",
       "| month &lt;dbl&gt; | sessions_desktop &lt;dbl&gt; | sessions_mobile &lt;dbl&gt; | sessions_tablet &lt;dbl&gt; | transactions_desktop &lt;dbl&gt; | transactions_mobile &lt;dbl&gt; | transactions_tablet &lt;dbl&gt; | QTY_desktop &lt;dbl&gt; | QTY_mobile &lt;dbl&gt; | QTY_tablet &lt;dbl&gt; | ECR_desktop &lt;dbl&gt; | ECR_mobile &lt;dbl&gt; | ECR_tablet &lt;dbl&gt; |\n",
       "|---|---|---|---|---|---|---|---|---|---|---|---|---|\n",
       "| 1 | 393723 | 341668 | 164601 | 13793 | 4360 | 3407 | 25424 |  7257 |  6165 | 0.03503224 | 0.012760926 | 0.02069854 |\n",
       "| 2 | 247632 | 194996 | 107599 |  9699 | 2071 | 2396 | 18437 |  3915 |  4696 | 0.03916699 | 0.010620731 | 0.02226786 |\n",
       "| 3 | 287837 | 304832 | 196151 |  9679 | 3644 | 4481 | 17362 |  6455 |  8265 | 0.03362667 | 0.011954126 | 0.02284465 |\n",
       "| 4 | 567510 | 429864 | 299239 | 18868 | 4280 | 7221 | 34200 |  7752 | 12994 | 0.03324699 | 0.009956637 | 0.02413121 |\n",
       "| 5 | 526330 | 409796 | 228513 | 18176 | 5413 | 4800 | 33208 |  9790 |  8631 | 0.03453347 | 0.013209011 | 0.02100537 |\n",
       "| 6 | 554940 | 526481 | 307413 | 19370 | 7412 | 7756 | 35146 | 13017 | 13728 | 0.03490467 | 0.014078381 | 0.02522990 |\n",
       "\n"
      ],
      "text/plain": [
       "  month sessions_desktop sessions_mobile sessions_tablet transactions_desktop\n",
       "1 1     393723           341668          164601          13793               \n",
       "2 2     247632           194996          107599           9699               \n",
       "3 3     287837           304832          196151           9679               \n",
       "4 4     567510           429864          299239          18868               \n",
       "5 5     526330           409796          228513          18176               \n",
       "6 6     554940           526481          307413          19370               \n",
       "  transactions_mobile transactions_tablet QTY_desktop QTY_mobile QTY_tablet\n",
       "1 4360                3407                25424        7257       6165     \n",
       "2 2071                2396                18437        3915       4696     \n",
       "3 3644                4481                17362        6455       8265     \n",
       "4 4280                7221                34200        7752      12994     \n",
       "5 5413                4800                33208        9790       8631     \n",
       "6 7412                7756                35146       13017      13728     \n",
       "  ECR_desktop ECR_mobile  ECR_tablet\n",
       "1 0.03503224  0.012760926 0.02069854\n",
       "2 0.03916699  0.010620731 0.02226786\n",
       "3 0.03362667  0.011954126 0.02284465\n",
       "4 0.03324699  0.009956637 0.02413121\n",
       "5 0.03453347  0.013209011 0.02100537\n",
       "6 0.03490467  0.014078381 0.02522990"
      ]
     },
     "metadata": {},
     "output_type": "display_data"
    }
   ],
   "source": [
    "#pivoting data\n",
    "DeviceSpecsShape <- pivot_wider(DeviceSpecsSum,names_from= 'dim_deviceCategory', \n",
    "                                values_from = c('sessions','transactions','QTY','ECR'))\n",
    "DeviceSpecsShape <- DeviceSpecsShape[order(DeviceSpecsShape$month),]\n",
    "head(DeviceSpecsShape)\n"
   ]
  },
  {
   "cell_type": "code",
   "execution_count": 473,
   "metadata": {},
   "outputs": [
    {
     "data": {
      "text/html": [
       "<table>\n",
       "<caption>A tibble: 6 × 13</caption>\n",
       "<thead>\n",
       "\t<tr><th scope=col>Month</th><th scope=col>Desktop Sessions</th><th scope=col>Mobile Sessions</th><th scope=col>Tablet Sessions</th><th scope=col>Desktop Transactions</th><th scope=col>Mobile Transactions</th><th scope=col>Tablet Transactions</th><th scope=col>Desktop QTY</th><th scope=col>Mobile QTY</th><th scope=col>Tablet QTY</th><th scope=col>Desktop ECR</th><th scope=col>Mobile ECR</th><th scope=col>Tablet ECR</th></tr>\n",
       "\t<tr><th scope=col>&lt;dbl&gt;</th><th scope=col>&lt;dbl&gt;</th><th scope=col>&lt;dbl&gt;</th><th scope=col>&lt;dbl&gt;</th><th scope=col>&lt;dbl&gt;</th><th scope=col>&lt;dbl&gt;</th><th scope=col>&lt;dbl&gt;</th><th scope=col>&lt;dbl&gt;</th><th scope=col>&lt;dbl&gt;</th><th scope=col>&lt;dbl&gt;</th><th scope=col>&lt;dbl&gt;</th><th scope=col>&lt;dbl&gt;</th><th scope=col>&lt;dbl&gt;</th></tr>\n",
       "</thead>\n",
       "<tbody>\n",
       "\t<tr><td>1</td><td>393723</td><td>341668</td><td>164601</td><td>13793</td><td>4360</td><td>3407</td><td>25424</td><td> 7257</td><td> 6165</td><td>0.03503224</td><td>0.012760926</td><td>0.02069854</td></tr>\n",
       "\t<tr><td>2</td><td>247632</td><td>194996</td><td>107599</td><td> 9699</td><td>2071</td><td>2396</td><td>18437</td><td> 3915</td><td> 4696</td><td>0.03916699</td><td>0.010620731</td><td>0.02226786</td></tr>\n",
       "\t<tr><td>3</td><td>287837</td><td>304832</td><td>196151</td><td> 9679</td><td>3644</td><td>4481</td><td>17362</td><td> 6455</td><td> 8265</td><td>0.03362667</td><td>0.011954126</td><td>0.02284465</td></tr>\n",
       "\t<tr><td>4</td><td>567510</td><td>429864</td><td>299239</td><td>18868</td><td>4280</td><td>7221</td><td>34200</td><td> 7752</td><td>12994</td><td>0.03324699</td><td>0.009956637</td><td>0.02413121</td></tr>\n",
       "\t<tr><td>5</td><td>526330</td><td>409796</td><td>228513</td><td>18176</td><td>5413</td><td>4800</td><td>33208</td><td> 9790</td><td> 8631</td><td>0.03453347</td><td>0.013209011</td><td>0.02100537</td></tr>\n",
       "\t<tr><td>6</td><td>554940</td><td>526481</td><td>307413</td><td>19370</td><td>7412</td><td>7756</td><td>35146</td><td>13017</td><td>13728</td><td>0.03490467</td><td>0.014078381</td><td>0.02522990</td></tr>\n",
       "</tbody>\n",
       "</table>\n"
      ],
      "text/latex": [
       "A tibble: 6 × 13\n",
       "\\begin{tabular}{lllllllllllll}\n",
       " Month & Desktop Sessions & Mobile Sessions & Tablet Sessions & Desktop Transactions & Mobile Transactions & Tablet Transactions & Desktop QTY & Mobile QTY & Tablet QTY & Desktop ECR & Mobile ECR & Tablet ECR\\\\\n",
       " <dbl> & <dbl> & <dbl> & <dbl> & <dbl> & <dbl> & <dbl> & <dbl> & <dbl> & <dbl> & <dbl> & <dbl> & <dbl>\\\\\n",
       "\\hline\n",
       "\t 1 & 393723 & 341668 & 164601 & 13793 & 4360 & 3407 & 25424 &  7257 &  6165 & 0.03503224 & 0.012760926 & 0.02069854\\\\\n",
       "\t 2 & 247632 & 194996 & 107599 &  9699 & 2071 & 2396 & 18437 &  3915 &  4696 & 0.03916699 & 0.010620731 & 0.02226786\\\\\n",
       "\t 3 & 287837 & 304832 & 196151 &  9679 & 3644 & 4481 & 17362 &  6455 &  8265 & 0.03362667 & 0.011954126 & 0.02284465\\\\\n",
       "\t 4 & 567510 & 429864 & 299239 & 18868 & 4280 & 7221 & 34200 &  7752 & 12994 & 0.03324699 & 0.009956637 & 0.02413121\\\\\n",
       "\t 5 & 526330 & 409796 & 228513 & 18176 & 5413 & 4800 & 33208 &  9790 &  8631 & 0.03453347 & 0.013209011 & 0.02100537\\\\\n",
       "\t 6 & 554940 & 526481 & 307413 & 19370 & 7412 & 7756 & 35146 & 13017 & 13728 & 0.03490467 & 0.014078381 & 0.02522990\\\\\n",
       "\\end{tabular}\n"
      ],
      "text/markdown": [
       "\n",
       "A tibble: 6 × 13\n",
       "\n",
       "| Month &lt;dbl&gt; | Desktop Sessions &lt;dbl&gt; | Mobile Sessions &lt;dbl&gt; | Tablet Sessions &lt;dbl&gt; | Desktop Transactions &lt;dbl&gt; | Mobile Transactions &lt;dbl&gt; | Tablet Transactions &lt;dbl&gt; | Desktop QTY &lt;dbl&gt; | Mobile QTY &lt;dbl&gt; | Tablet QTY &lt;dbl&gt; | Desktop ECR &lt;dbl&gt; | Mobile ECR &lt;dbl&gt; | Tablet ECR &lt;dbl&gt; |\n",
       "|---|---|---|---|---|---|---|---|---|---|---|---|---|\n",
       "| 1 | 393723 | 341668 | 164601 | 13793 | 4360 | 3407 | 25424 |  7257 |  6165 | 0.03503224 | 0.012760926 | 0.02069854 |\n",
       "| 2 | 247632 | 194996 | 107599 |  9699 | 2071 | 2396 | 18437 |  3915 |  4696 | 0.03916699 | 0.010620731 | 0.02226786 |\n",
       "| 3 | 287837 | 304832 | 196151 |  9679 | 3644 | 4481 | 17362 |  6455 |  8265 | 0.03362667 | 0.011954126 | 0.02284465 |\n",
       "| 4 | 567510 | 429864 | 299239 | 18868 | 4280 | 7221 | 34200 |  7752 | 12994 | 0.03324699 | 0.009956637 | 0.02413121 |\n",
       "| 5 | 526330 | 409796 | 228513 | 18176 | 5413 | 4800 | 33208 |  9790 |  8631 | 0.03453347 | 0.013209011 | 0.02100537 |\n",
       "| 6 | 554940 | 526481 | 307413 | 19370 | 7412 | 7756 | 35146 | 13017 | 13728 | 0.03490467 | 0.014078381 | 0.02522990 |\n",
       "\n"
      ],
      "text/plain": [
       "  Month Desktop Sessions Mobile Sessions Tablet Sessions Desktop Transactions\n",
       "1 1     393723           341668          164601          13793               \n",
       "2 2     247632           194996          107599           9699               \n",
       "3 3     287837           304832          196151           9679               \n",
       "4 4     567510           429864          299239          18868               \n",
       "5 5     526330           409796          228513          18176               \n",
       "6 6     554940           526481          307413          19370               \n",
       "  Mobile Transactions Tablet Transactions Desktop QTY Mobile QTY Tablet QTY\n",
       "1 4360                3407                25424        7257       6165     \n",
       "2 2071                2396                18437        3915       4696     \n",
       "3 3644                4481                17362        6455       8265     \n",
       "4 4280                7221                34200        7752      12994     \n",
       "5 5413                4800                33208        9790       8631     \n",
       "6 7412                7756                35146       13017      13728     \n",
       "  Desktop ECR Mobile ECR  Tablet ECR\n",
       "1 0.03503224  0.012760926 0.02069854\n",
       "2 0.03916699  0.010620731 0.02226786\n",
       "3 0.03362667  0.011954126 0.02284465\n",
       "4 0.03324699  0.009956637 0.02413121\n",
       "5 0.03453347  0.013209011 0.02100537\n",
       "6 0.03490467  0.014078381 0.02522990"
      ]
     },
     "metadata": {},
     "output_type": "display_data"
    }
   ],
   "source": [
    "#rename columns\n",
    "colnames(DeviceSpecsShape)<- c('Month','Desktop Sessions',\n",
    "                               'Mobile Sessions','Tablet Sessions','Desktop Transactions',\n",
    "                               'Mobile Transactions','Tablet Transactions','Desktop QTY',\n",
    "                               'Mobile QTY','Tablet QTY','Desktop ECR','Mobile ECR','Tablet ECR')\n",
    "head(DeviceSpecsShape)"
   ]
  },
  {
   "cell_type": "code",
   "execution_count": 474,
   "metadata": {},
   "outputs": [],
   "source": [
    "#manually ordering based on month and year\n",
    "DeviceSpecsShape <-DeviceSpecsShape %>% arrange(factor(Month, levels = c(7,8,9,10,11,12,1,2,3,4,5,6)))"
   ]
  },
  {
   "cell_type": "markdown",
   "metadata": {},
   "source": [
    "# Creating a Month over Month comparison "
   ]
  },
  {
   "cell_type": "code",
   "execution_count": 475,
   "metadata": {},
   "outputs": [
    {
     "data": {
      "text/html": [
       "<table>\n",
       "<caption>A tibble: 6 × 7</caption>\n",
       "<thead>\n",
       "\t<tr><th scope=col>dim_browser</th><th scope=col>dim_deviceCategory</th><th scope=col>dim_date</th><th scope=col>sessions</th><th scope=col>transactions</th><th scope=col>QTY</th><th scope=col>month</th></tr>\n",
       "\t<tr><th scope=col>&lt;chr&gt;</th><th scope=col>&lt;chr&gt;</th><th scope=col>&lt;chr&gt;</th><th scope=col>&lt;dbl&gt;</th><th scope=col>&lt;dbl&gt;</th><th scope=col>&lt;dbl&gt;</th><th scope=col>&lt;dbl&gt;</th></tr>\n",
       "</thead>\n",
       "<tbody>\n",
       "\t<tr><td>Safari           </td><td>tablet </td><td>5/1/13</td><td>11440</td><td>290</td><td>654</td><td>5</td></tr>\n",
       "\t<tr><td>Safari           </td><td>mobile </td><td>5/1/13</td><td> 9778</td><td> 69</td><td>147</td><td>5</td></tr>\n",
       "\t<tr><td>Firefox          </td><td>desktop</td><td>5/1/13</td><td> 3490</td><td> 74</td><td>182</td><td>5</td></tr>\n",
       "\t<tr><td>Internet Explorer</td><td>desktop</td><td>5/1/13</td><td>  913</td><td> 45</td><td> 65</td><td>5</td></tr>\n",
       "\t<tr><td>Edge             </td><td>desktop</td><td>5/1/13</td><td>  475</td><td> 14</td><td>  8</td><td>5</td></tr>\n",
       "\t<tr><td>Chrome           </td><td>tablet </td><td>5/1/13</td><td>  181</td><td>  1</td><td>  7</td><td>5</td></tr>\n",
       "</tbody>\n",
       "</table>\n"
      ],
      "text/latex": [
       "A tibble: 6 × 7\n",
       "\\begin{tabular}{lllllll}\n",
       " dim\\_browser & dim\\_deviceCategory & dim\\_date & sessions & transactions & QTY & month\\\\\n",
       " <chr> & <chr> & <chr> & <dbl> & <dbl> & <dbl> & <dbl>\\\\\n",
       "\\hline\n",
       "\t Safari            & tablet  & 5/1/13 & 11440 & 290 & 654 & 5\\\\\n",
       "\t Safari            & mobile  & 5/1/13 &  9778 &  69 & 147 & 5\\\\\n",
       "\t Firefox           & desktop & 5/1/13 &  3490 &  74 & 182 & 5\\\\\n",
       "\t Internet Explorer & desktop & 5/1/13 &   913 &  45 &  65 & 5\\\\\n",
       "\t Edge              & desktop & 5/1/13 &   475 &  14 &   8 & 5\\\\\n",
       "\t Chrome            & tablet  & 5/1/13 &   181 &   1 &   7 & 5\\\\\n",
       "\\end{tabular}\n"
      ],
      "text/markdown": [
       "\n",
       "A tibble: 6 × 7\n",
       "\n",
       "| dim_browser &lt;chr&gt; | dim_deviceCategory &lt;chr&gt; | dim_date &lt;chr&gt; | sessions &lt;dbl&gt; | transactions &lt;dbl&gt; | QTY &lt;dbl&gt; | month &lt;dbl&gt; |\n",
       "|---|---|---|---|---|---|---|\n",
       "| Safari            | tablet  | 5/1/13 | 11440 | 290 | 654 | 5 |\n",
       "| Safari            | mobile  | 5/1/13 |  9778 |  69 | 147 | 5 |\n",
       "| Firefox           | desktop | 5/1/13 |  3490 |  74 | 182 | 5 |\n",
       "| Internet Explorer | desktop | 5/1/13 |   913 |  45 |  65 | 5 |\n",
       "| Edge              | desktop | 5/1/13 |   475 |  14 |   8 | 5 |\n",
       "| Chrome            | tablet  | 5/1/13 |   181 |   1 |   7 | 5 |\n",
       "\n"
      ],
      "text/plain": [
       "  dim_browser       dim_deviceCategory dim_date sessions transactions QTY month\n",
       "1 Safari            tablet             5/1/13   11440    290          654 5    \n",
       "2 Safari            mobile             5/1/13    9778     69          147 5    \n",
       "3 Firefox           desktop            5/1/13    3490     74          182 5    \n",
       "4 Internet Explorer desktop            5/1/13     913     45           65 5    \n",
       "5 Edge              desktop            5/1/13     475     14            8 5    \n",
       "6 Chrome            tablet             5/1/13     181      1            7 5    "
      ]
     },
     "metadata": {},
     "output_type": "display_data"
    }
   ],
   "source": [
    "#keeping months 5 and 6\n",
    "DeviceSpecsMonth<-DeviceSpecs %>% filter(month  %in% c(5, 6))\n",
    "head(DeviceSpecsMonth)"
   ]
  },
  {
   "cell_type": "code",
   "execution_count": 476,
   "metadata": {
    "scrolled": true
   },
   "outputs": [
    {
     "data": {
      "text/html": [
       "<table>\n",
       "<caption>A data.frame: 6 × 6</caption>\n",
       "<thead>\n",
       "\t<tr><th></th><th scope=col>month</th><th scope=col>dim_deviceCategory</th><th scope=col>dim_browser</th><th scope=col>sessions</th><th scope=col>transactions</th><th scope=col>QTY</th></tr>\n",
       "\t<tr><th></th><th scope=col>&lt;dbl&gt;</th><th scope=col>&lt;chr&gt;</th><th scope=col>&lt;chr&gt;</th><th scope=col>&lt;dbl&gt;</th><th scope=col>&lt;dbl&gt;</th><th scope=col>&lt;dbl&gt;</th></tr>\n",
       "</thead>\n",
       "<tbody>\n",
       "\t<tr><th scope=row>1</th><td>5</td><td>desktop</td><td>Amazon Silk      </td><td>     6</td><td>   0</td><td>    0</td></tr>\n",
       "\t<tr><th scope=row>2</th><td>5</td><td>desktop</td><td>Apple-iPhone7C2  </td><td>     0</td><td>   0</td><td>    0</td></tr>\n",
       "\t<tr><th scope=row>3</th><td>5</td><td>desktop</td><td>Chrome           </td><td>232256</td><td>7345</td><td>13852</td></tr>\n",
       "\t<tr><th scope=row>4</th><td>5</td><td>desktop</td><td>Chromeless 1.2.0 </td><td>     1</td><td>   0</td><td>    0</td></tr>\n",
       "\t<tr><th scope=row>5</th><td>5</td><td>desktop</td><td>Coc Coc          </td><td>     6</td><td>   0</td><td>    0</td></tr>\n",
       "\t<tr><th scope=row>6</th><td>5</td><td>desktop</td><td>DDG-Android-3.1.1</td><td>     5</td><td>   0</td><td>    0</td></tr>\n",
       "</tbody>\n",
       "</table>\n"
      ],
      "text/latex": [
       "A data.frame: 6 × 6\n",
       "\\begin{tabular}{r|llllll}\n",
       "  & month & dim\\_deviceCategory & dim\\_browser & sessions & transactions & QTY\\\\\n",
       "  & <dbl> & <chr> & <chr> & <dbl> & <dbl> & <dbl>\\\\\n",
       "\\hline\n",
       "\t1 & 5 & desktop & Amazon Silk       &      6 &    0 &     0\\\\\n",
       "\t2 & 5 & desktop & Apple-iPhone7C2   &      0 &    0 &     0\\\\\n",
       "\t3 & 5 & desktop & Chrome            & 232256 & 7345 & 13852\\\\\n",
       "\t4 & 5 & desktop & Chromeless 1.2.0  &      1 &    0 &     0\\\\\n",
       "\t5 & 5 & desktop & Coc Coc           &      6 &    0 &     0\\\\\n",
       "\t6 & 5 & desktop & DDG-Android-3.1.1 &      5 &    0 &     0\\\\\n",
       "\\end{tabular}\n"
      ],
      "text/markdown": [
       "\n",
       "A data.frame: 6 × 6\n",
       "\n",
       "| <!--/--> | month &lt;dbl&gt; | dim_deviceCategory &lt;chr&gt; | dim_browser &lt;chr&gt; | sessions &lt;dbl&gt; | transactions &lt;dbl&gt; | QTY &lt;dbl&gt; |\n",
       "|---|---|---|---|---|---|---|\n",
       "| 1 | 5 | desktop | Amazon Silk       |      6 |    0 |     0 |\n",
       "| 2 | 5 | desktop | Apple-iPhone7C2   |      0 |    0 |     0 |\n",
       "| 3 | 5 | desktop | Chrome            | 232256 | 7345 | 13852 |\n",
       "| 4 | 5 | desktop | Chromeless 1.2.0  |      1 |    0 |     0 |\n",
       "| 5 | 5 | desktop | Coc Coc           |      6 |    0 |     0 |\n",
       "| 6 | 5 | desktop | DDG-Android-3.1.1 |      5 |    0 |     0 |\n",
       "\n"
      ],
      "text/plain": [
       "  month dim_deviceCategory dim_browser       sessions transactions QTY  \n",
       "1 5     desktop            Amazon Silk            6      0             0\n",
       "2 5     desktop            Apple-iPhone7C2        0      0             0\n",
       "3 5     desktop            Chrome            232256   7345         13852\n",
       "4 5     desktop            Chromeless 1.2.0       1      0             0\n",
       "5 5     desktop            Coc Coc                6      0             0\n",
       "6 5     desktop            DDG-Android-3.1.1      5      0             0"
      ]
     },
     "metadata": {},
     "output_type": "display_data"
    }
   ],
   "source": [
    "#aggregate based on month,dim_deviceCategory, and dim_browser\n",
    "DeviceSpecsMonthSum <- ddply(DeviceSpecsMonth,.(month,dim_deviceCategory,dim_browser),numcolwise(sum))\n",
    "head(DeviceSpecsMonthSum)"
   ]
  },
  {
   "cell_type": "code",
   "execution_count": 477,
   "metadata": {},
   "outputs": [],
   "source": [
    "#split into dataframes with month values 5 and 6\n",
    "df5 <- DeviceSpecsMonthSum[DeviceSpecsMonthSum$month == 5, ]\n",
    "df6 <- DeviceSpecsMonthSum[DeviceSpecsMonthSum$month == 6, ]\n",
    "\n",
    "df5and6 <- merge(df5,df6,by=c(\"dim_deviceCategory\",\"dim_browser\"))\n",
    "\n",
    "colnames(df5and6)<- c('DeviceCategory', 'Browser', 'PreviousMonth', 'PreviousSessions', 'PreviousTransactions', \n",
    "                     'PreviousQTY', 'RecentMonth', 'RecentSessions', 'RecentTransactions', 'RecentQTY')\n",
    "#adding columns to merge df5and6 with totalAdds\n",
    "df5and6[\"PreviousAddsToCart\"] <- 0\n",
    "df5and6[\"RecentAddsToCart\"] <- 0"
   ]
  },
  {
   "cell_type": "code",
   "execution_count": 478,
   "metadata": {},
   "outputs": [
    {
     "data": {
      "text/html": [
       "<table>\n",
       "<caption>A data.frame: 1 × 12</caption>\n",
       "<thead>\n",
       "\t<tr><th></th><th scope=col>PreviousMonth</th><th scope=col>PreviousAddsToCart</th><th scope=col>RecentMonth</th><th scope=col>RecentAddsToCart</th><th scope=col>DeviceCategory</th><th scope=col>Browser</th><th scope=col>PreviousSessions</th><th scope=col>PreviousTransactions</th><th scope=col>PreviousQTY</th><th scope=col>RecentSessions</th><th scope=col>RecentTransactions</th><th scope=col>RecentQTY</th></tr>\n",
       "\t<tr><th></th><th scope=col>&lt;dbl&gt;</th><th scope=col>&lt;dbl&gt;</th><th scope=col>&lt;dbl&gt;</th><th scope=col>&lt;dbl&gt;</th><th scope=col>&lt;chr&gt;</th><th scope=col>&lt;chr&gt;</th><th scope=col>&lt;dbl&gt;</th><th scope=col>&lt;dbl&gt;</th><th scope=col>&lt;dbl&gt;</th><th scope=col>&lt;dbl&gt;</th><th scope=col>&lt;dbl&gt;</th><th scope=col>&lt;dbl&gt;</th></tr>\n",
       "</thead>\n",
       "<tbody>\n",
       "\t<tr><th scope=row>1</th><td>5</td><td>136720</td><td>6</td><td>107970</td><td>none</td><td>none</td><td>0</td><td>0</td><td>0</td><td>0</td><td>0</td><td>0</td></tr>\n",
       "</tbody>\n",
       "</table>\n"
      ],
      "text/latex": [
       "A data.frame: 1 × 12\n",
       "\\begin{tabular}{r|llllllllllll}\n",
       "  & PreviousMonth & PreviousAddsToCart & RecentMonth & RecentAddsToCart & DeviceCategory & Browser & PreviousSessions & PreviousTransactions & PreviousQTY & RecentSessions & RecentTransactions & RecentQTY\\\\\n",
       "  & <dbl> & <dbl> & <dbl> & <dbl> & <chr> & <chr> & <dbl> & <dbl> & <dbl> & <dbl> & <dbl> & <dbl>\\\\\n",
       "\\hline\n",
       "\t1 & 5 & 136720 & 6 & 107970 & none & none & 0 & 0 & 0 & 0 & 0 & 0\\\\\n",
       "\\end{tabular}\n"
      ],
      "text/markdown": [
       "\n",
       "A data.frame: 1 × 12\n",
       "\n",
       "| <!--/--> | PreviousMonth &lt;dbl&gt; | PreviousAddsToCart &lt;dbl&gt; | RecentMonth &lt;dbl&gt; | RecentAddsToCart &lt;dbl&gt; | DeviceCategory &lt;chr&gt; | Browser &lt;chr&gt; | PreviousSessions &lt;dbl&gt; | PreviousTransactions &lt;dbl&gt; | PreviousQTY &lt;dbl&gt; | RecentSessions &lt;dbl&gt; | RecentTransactions &lt;dbl&gt; | RecentQTY &lt;dbl&gt; |\n",
       "|---|---|---|---|---|---|---|---|---|---|---|---|---|\n",
       "| 1 | 5 | 136720 | 6 | 107970 | none | none | 0 | 0 | 0 | 0 | 0 | 0 |\n",
       "\n"
      ],
      "text/plain": [
       "  PreviousMonth PreviousAddsToCart RecentMonth RecentAddsToCart DeviceCategory\n",
       "1 5             136720             6           107970           none          \n",
       "  Browser PreviousSessions PreviousTransactions PreviousQTY RecentSessions\n",
       "1 none    0                0                    0           0             \n",
       "  RecentTransactions RecentQTY\n",
       "1 0                  0        "
      ]
     },
     "metadata": {},
     "output_type": "display_data"
    }
   ],
   "source": [
    "#Manipulating TotalAdds so it can be merged with df5and6\n",
    "df5total <- TotalAdds[TotalAdds$dim_month == 5, ]\n",
    "df6total <- TotalAdds[TotalAdds$dim_month == 6, ]\n",
    "\n",
    "df5and6Total <- merge(df5total,df6total,by=\"dim_year\")\n",
    "colnames(df5and6Total)<-c('Year','PreviousMonth','PreviousAddsToCart','RecentMonth', 'RecentAddsToCart' )\n",
    "\n",
    "df5and6Total <- subset(df5and6Total, select=c('PreviousMonth','PreviousAddsToCart','RecentMonth', 'RecentAddsToCart'))\n",
    "\n",
    "#making sure columns match\n",
    "df5and6Total[\"DeviceCategory\"] <- 'none'\n",
    "df5and6Total[\"Browser\"] <- 'none'\n",
    "df5and6Total[\"PreviousSessions\"] <- 0\n",
    "df5and6Total[\"PreviousTransactions\"] <- 0\n",
    "df5and6Total[\"PreviousQTY\"] <- 0\n",
    "df5and6Total[\"RecentSessions\"] <- 0\n",
    "df5and6Total[\"RecentTransactions\"] <- 0\n",
    "df5and6Total[\"RecentQTY\"] <- 0\n",
    "\n",
    "df5and6Total"
   ]
  },
  {
   "cell_type": "code",
   "execution_count": 479,
   "metadata": {},
   "outputs": [
    {
     "data": {
      "text/html": [
       "<table>\n",
       "<caption>A data.frame: 6 × 12</caption>\n",
       "<thead>\n",
       "\t<tr><th></th><th scope=col>DeviceCategory</th><th scope=col>Browser</th><th scope=col>PreviousMonth</th><th scope=col>PreviousSessions</th><th scope=col>PreviousTransactions</th><th scope=col>PreviousQTY</th><th scope=col>RecentMonth</th><th scope=col>RecentSessions</th><th scope=col>RecentTransactions</th><th scope=col>RecentQTY</th><th scope=col>PreviousAddsToCart</th><th scope=col>RecentAddsToCart</th></tr>\n",
       "\t<tr><th></th><th scope=col>&lt;chr&gt;</th><th scope=col>&lt;chr&gt;</th><th scope=col>&lt;dbl&gt;</th><th scope=col>&lt;dbl&gt;</th><th scope=col>&lt;dbl&gt;</th><th scope=col>&lt;dbl&gt;</th><th scope=col>&lt;dbl&gt;</th><th scope=col>&lt;dbl&gt;</th><th scope=col>&lt;dbl&gt;</th><th scope=col>&lt;dbl&gt;</th><th scope=col>&lt;dbl&gt;</th><th scope=col>&lt;dbl&gt;</th></tr>\n",
       "</thead>\n",
       "<tbody>\n",
       "\t<tr><th scope=row>1</th><td>desktop</td><td>Chrome           </td><td>5</td><td>232256</td><td>7345</td><td>13852</td><td>6</td><td>235084</td><td>7789</td><td>14863</td><td>0</td><td>0</td></tr>\n",
       "\t<tr><th scope=row>2</th><td>desktop</td><td>Coc Coc          </td><td>5</td><td>     6</td><td>   0</td><td>    0</td><td>6</td><td>    20</td><td>   0</td><td>    0</td><td>0</td><td>0</td></tr>\n",
       "\t<tr><th scope=row>3</th><td>desktop</td><td>DDG-Android-3.1.1</td><td>5</td><td>     5</td><td>   0</td><td>    0</td><td>6</td><td>     2</td><td>   0</td><td>    0</td><td>0</td><td>0</td></tr>\n",
       "\t<tr><th scope=row>4</th><td>desktop</td><td>DESKTOP          </td><td>5</td><td>    40</td><td>   0</td><td>    0</td><td>6</td><td>    12</td><td>   0</td><td>    0</td><td>0</td><td>0</td></tr>\n",
       "\t<tr><th scope=row>5</th><td>desktop</td><td>Edge             </td><td>5</td><td> 28263</td><td> 949</td><td> 1702</td><td>6</td><td> 26844</td><td> 720</td><td> 1390</td><td>0</td><td>0</td></tr>\n",
       "\t<tr><th scope=row>6</th><td>desktop</td><td>error            </td><td>5</td><td>   255</td><td>   0</td><td>    0</td><td>6</td><td>   308</td><td>   0</td><td>    0</td><td>0</td><td>0</td></tr>\n",
       "</tbody>\n",
       "</table>\n"
      ],
      "text/latex": [
       "A data.frame: 6 × 12\n",
       "\\begin{tabular}{r|llllllllllll}\n",
       "  & DeviceCategory & Browser & PreviousMonth & PreviousSessions & PreviousTransactions & PreviousQTY & RecentMonth & RecentSessions & RecentTransactions & RecentQTY & PreviousAddsToCart & RecentAddsToCart\\\\\n",
       "  & <chr> & <chr> & <dbl> & <dbl> & <dbl> & <dbl> & <dbl> & <dbl> & <dbl> & <dbl> & <dbl> & <dbl>\\\\\n",
       "\\hline\n",
       "\t1 & desktop & Chrome            & 5 & 232256 & 7345 & 13852 & 6 & 235084 & 7789 & 14863 & 0 & 0\\\\\n",
       "\t2 & desktop & Coc Coc           & 5 &      6 &    0 &     0 & 6 &     20 &    0 &     0 & 0 & 0\\\\\n",
       "\t3 & desktop & DDG-Android-3.1.1 & 5 &      5 &    0 &     0 & 6 &      2 &    0 &     0 & 0 & 0\\\\\n",
       "\t4 & desktop & DESKTOP           & 5 &     40 &    0 &     0 & 6 &     12 &    0 &     0 & 0 & 0\\\\\n",
       "\t5 & desktop & Edge              & 5 &  28263 &  949 &  1702 & 6 &  26844 &  720 &  1390 & 0 & 0\\\\\n",
       "\t6 & desktop & error             & 5 &    255 &    0 &     0 & 6 &    308 &    0 &     0 & 0 & 0\\\\\n",
       "\\end{tabular}\n"
      ],
      "text/markdown": [
       "\n",
       "A data.frame: 6 × 12\n",
       "\n",
       "| <!--/--> | DeviceCategory &lt;chr&gt; | Browser &lt;chr&gt; | PreviousMonth &lt;dbl&gt; | PreviousSessions &lt;dbl&gt; | PreviousTransactions &lt;dbl&gt; | PreviousQTY &lt;dbl&gt; | RecentMonth &lt;dbl&gt; | RecentSessions &lt;dbl&gt; | RecentTransactions &lt;dbl&gt; | RecentQTY &lt;dbl&gt; | PreviousAddsToCart &lt;dbl&gt; | RecentAddsToCart &lt;dbl&gt; |\n",
       "|---|---|---|---|---|---|---|---|---|---|---|---|---|\n",
       "| 1 | desktop | Chrome            | 5 | 232256 | 7345 | 13852 | 6 | 235084 | 7789 | 14863 | 0 | 0 |\n",
       "| 2 | desktop | Coc Coc           | 5 |      6 |    0 |     0 | 6 |     20 |    0 |     0 | 0 | 0 |\n",
       "| 3 | desktop | DDG-Android-3.1.1 | 5 |      5 |    0 |     0 | 6 |      2 |    0 |     0 | 0 | 0 |\n",
       "| 4 | desktop | DESKTOP           | 5 |     40 |    0 |     0 | 6 |     12 |    0 |     0 | 0 | 0 |\n",
       "| 5 | desktop | Edge              | 5 |  28263 |  949 |  1702 | 6 |  26844 |  720 |  1390 | 0 | 0 |\n",
       "| 6 | desktop | error             | 5 |    255 |    0 |     0 | 6 |    308 |    0 |     0 | 0 | 0 |\n",
       "\n"
      ],
      "text/plain": [
       "  DeviceCategory Browser           PreviousMonth PreviousSessions\n",
       "1 desktop        Chrome            5             232256          \n",
       "2 desktop        Coc Coc           5                  6          \n",
       "3 desktop        DDG-Android-3.1.1 5                  5          \n",
       "4 desktop        DESKTOP           5                 40          \n",
       "5 desktop        Edge              5              28263          \n",
       "6 desktop        error             5                255          \n",
       "  PreviousTransactions PreviousQTY RecentMonth RecentSessions\n",
       "1 7345                 13852       6           235084        \n",
       "2    0                     0       6               20        \n",
       "3    0                     0       6                2        \n",
       "4    0                     0       6               12        \n",
       "5  949                  1702       6            26844        \n",
       "6    0                     0       6              308        \n",
       "  RecentTransactions RecentQTY PreviousAddsToCart RecentAddsToCart\n",
       "1 7789               14863     0                  0               \n",
       "2    0                   0     0                  0               \n",
       "3    0                   0     0                  0               \n",
       "4    0                   0     0                  0               \n",
       "5  720                1390     0                  0               \n",
       "6    0                   0     0                  0               "
      ]
     },
     "metadata": {},
     "output_type": "display_data"
    }
   ],
   "source": [
    "#merging the dataframes\n",
    "finaldf <- rbind(df5and6, df5and6Total)\n",
    "head(finaldf)"
   ]
  },
  {
   "cell_type": "code",
   "execution_count": 480,
   "metadata": {},
   "outputs": [
    {
     "data": {
      "text/html": [
       "<table>\n",
       "<caption>A data.frame: 10 × 20</caption>\n",
       "<thead>\n",
       "\t<tr><th></th><th scope=col>DeviceCategory</th><th scope=col>Browser</th><th scope=col>PreviousMonth</th><th scope=col>PreviousSessions</th><th scope=col>PreviousTransactions</th><th scope=col>PreviousQTY</th><th scope=col>RecentMonth</th><th scope=col>RecentSessions</th><th scope=col>RecentTransactions</th><th scope=col>RecentQTY</th><th scope=col>PreviousAddsToCart</th><th scope=col>RecentAddsToCart</th><th scope=col>MoMSessionsREL</th><th scope=col>MoMSessionsABS</th><th scope=col>MoMTransactionsREL</th><th scope=col>MoMTransactionsABS</th><th scope=col>MoMqtyREL</th><th scope=col>MoMqtyABS</th><th scope=col>MoMAddsToCartREL</th><th scope=col>MoMAddsToCartABS</th></tr>\n",
       "\t<tr><th></th><th scope=col>&lt;chr&gt;</th><th scope=col>&lt;chr&gt;</th><th scope=col>&lt;dbl&gt;</th><th scope=col>&lt;dbl&gt;</th><th scope=col>&lt;dbl&gt;</th><th scope=col>&lt;dbl&gt;</th><th scope=col>&lt;dbl&gt;</th><th scope=col>&lt;dbl&gt;</th><th scope=col>&lt;dbl&gt;</th><th scope=col>&lt;dbl&gt;</th><th scope=col>&lt;dbl&gt;</th><th scope=col>&lt;dbl&gt;</th><th scope=col>&lt;dbl&gt;</th><th scope=col>&lt;dbl&gt;</th><th scope=col>&lt;dbl&gt;</th><th scope=col>&lt;dbl&gt;</th><th scope=col>&lt;dbl&gt;</th><th scope=col>&lt;dbl&gt;</th><th scope=col>&lt;dbl&gt;</th><th scope=col>&lt;dbl&gt;</th></tr>\n",
       "</thead>\n",
       "<tbody>\n",
       "\t<tr><th scope=row>1</th><td>desktop</td><td>Chrome           </td><td>5</td><td>232256</td><td>7345</td><td>13852</td><td>6</td><td>235084</td><td>7789</td><td>14863</td><td>0</td><td>0</td><td>  1.217622</td><td>  1.217622</td><td>   6.044929</td><td>  6.044929</td><td>   7.298585</td><td>  7.298585</td><td>NaN</td><td>NaN</td></tr>\n",
       "\t<tr><th scope=row>2</th><td>desktop</td><td>Coc Coc          </td><td>5</td><td>     6</td><td>   0</td><td>    0</td><td>6</td><td>    20</td><td>   0</td><td>    0</td><td>0</td><td>0</td><td>233.333333</td><td>233.333333</td><td>        NaN</td><td>       NaN</td><td>        NaN</td><td>       NaN</td><td>NaN</td><td>NaN</td></tr>\n",
       "\t<tr><th scope=row>3</th><td>desktop</td><td>DDG-Android-3.1.1</td><td>5</td><td>     5</td><td>   0</td><td>    0</td><td>6</td><td>     2</td><td>   0</td><td>    0</td><td>0</td><td>0</td><td>-60.000000</td><td> 60.000000</td><td>        NaN</td><td>       NaN</td><td>        NaN</td><td>       NaN</td><td>NaN</td><td>NaN</td></tr>\n",
       "\t<tr><th scope=row>4</th><td>desktop</td><td>DESKTOP          </td><td>5</td><td>    40</td><td>   0</td><td>    0</td><td>6</td><td>    12</td><td>   0</td><td>    0</td><td>0</td><td>0</td><td>-70.000000</td><td> 70.000000</td><td>        NaN</td><td>       NaN</td><td>        NaN</td><td>       NaN</td><td>NaN</td><td>NaN</td></tr>\n",
       "\t<tr><th scope=row>5</th><td>desktop</td><td>Edge             </td><td>5</td><td> 28263</td><td> 949</td><td> 1702</td><td>6</td><td> 26844</td><td> 720</td><td> 1390</td><td>0</td><td>0</td><td> -5.020698</td><td>  5.020698</td><td> -24.130664</td><td> 24.130664</td><td> -18.331375</td><td> 18.331375</td><td>NaN</td><td>NaN</td></tr>\n",
       "\t<tr><th scope=row>6</th><td>desktop</td><td>error            </td><td>5</td><td>   255</td><td>   0</td><td>    0</td><td>6</td><td>   308</td><td>   0</td><td>    0</td><td>0</td><td>0</td><td> 20.784314</td><td> 20.784314</td><td>        NaN</td><td>       NaN</td><td>        NaN</td><td>       NaN</td><td>NaN</td><td>NaN</td></tr>\n",
       "\t<tr><th scope=row>7</th><td>desktop</td><td>Firefox          </td><td>5</td><td> 45462</td><td>1538</td><td> 2828</td><td>6</td><td> 56214</td><td>2000</td><td> 3516</td><td>0</td><td>0</td><td> 23.650521</td><td> 23.650521</td><td>  30.039012</td><td> 30.039012</td><td>  24.328147</td><td> 24.328147</td><td>NaN</td><td>NaN</td></tr>\n",
       "\t<tr><th scope=row>8</th><td>desktop</td><td>Internet Explorer</td><td>5</td><td> 50831</td><td>1559</td><td> 1512</td><td>6</td><td> 44165</td><td>1378</td><td>  675</td><td>0</td><td>0</td><td>-13.114045</td><td> 13.114045</td><td> -11.610006</td><td> 11.610006</td><td> -55.357143</td><td> 55.357143</td><td>NaN</td><td>NaN</td></tr>\n",
       "\t<tr><th scope=row>9</th><td>desktop</td><td>Maxthon          </td><td>5</td><td>    44</td><td>   0</td><td>    0</td><td>6</td><td>    39</td><td>   0</td><td>    0</td><td>0</td><td>0</td><td>-11.363636</td><td> 11.363636</td><td>        NaN</td><td>       NaN</td><td>        NaN</td><td>       NaN</td><td>NaN</td><td>NaN</td></tr>\n",
       "\t<tr><th scope=row>10</th><td>desktop</td><td>Mozilla          </td><td>5</td><td>    83</td><td>   2</td><td>    3</td><td>6</td><td>    34</td><td>   0</td><td>    0</td><td>0</td><td>0</td><td>-59.036145</td><td> 59.036145</td><td>-100.000000</td><td>100.000000</td><td>-100.000000</td><td>100.000000</td><td>NaN</td><td>NaN</td></tr>\n",
       "</tbody>\n",
       "</table>\n"
      ],
      "text/latex": [
       "A data.frame: 10 × 20\n",
       "\\begin{tabular}{r|llllllllllllllllllll}\n",
       "  & DeviceCategory & Browser & PreviousMonth & PreviousSessions & PreviousTransactions & PreviousQTY & RecentMonth & RecentSessions & RecentTransactions & RecentQTY & PreviousAddsToCart & RecentAddsToCart & MoMSessionsREL & MoMSessionsABS & MoMTransactionsREL & MoMTransactionsABS & MoMqtyREL & MoMqtyABS & MoMAddsToCartREL & MoMAddsToCartABS\\\\\n",
       "  & <chr> & <chr> & <dbl> & <dbl> & <dbl> & <dbl> & <dbl> & <dbl> & <dbl> & <dbl> & <dbl> & <dbl> & <dbl> & <dbl> & <dbl> & <dbl> & <dbl> & <dbl> & <dbl> & <dbl>\\\\\n",
       "\\hline\n",
       "\t1 & desktop & Chrome            & 5 & 232256 & 7345 & 13852 & 6 & 235084 & 7789 & 14863 & 0 & 0 &   1.217622 &   1.217622 &    6.044929 &   6.044929 &    7.298585 &   7.298585 & NaN & NaN\\\\\n",
       "\t2 & desktop & Coc Coc           & 5 &      6 &    0 &     0 & 6 &     20 &    0 &     0 & 0 & 0 & 233.333333 & 233.333333 &         NaN &        NaN &         NaN &        NaN & NaN & NaN\\\\\n",
       "\t3 & desktop & DDG-Android-3.1.1 & 5 &      5 &    0 &     0 & 6 &      2 &    0 &     0 & 0 & 0 & -60.000000 &  60.000000 &         NaN &        NaN &         NaN &        NaN & NaN & NaN\\\\\n",
       "\t4 & desktop & DESKTOP           & 5 &     40 &    0 &     0 & 6 &     12 &    0 &     0 & 0 & 0 & -70.000000 &  70.000000 &         NaN &        NaN &         NaN &        NaN & NaN & NaN\\\\\n",
       "\t5 & desktop & Edge              & 5 &  28263 &  949 &  1702 & 6 &  26844 &  720 &  1390 & 0 & 0 &  -5.020698 &   5.020698 &  -24.130664 &  24.130664 &  -18.331375 &  18.331375 & NaN & NaN\\\\\n",
       "\t6 & desktop & error             & 5 &    255 &    0 &     0 & 6 &    308 &    0 &     0 & 0 & 0 &  20.784314 &  20.784314 &         NaN &        NaN &         NaN &        NaN & NaN & NaN\\\\\n",
       "\t7 & desktop & Firefox           & 5 &  45462 & 1538 &  2828 & 6 &  56214 & 2000 &  3516 & 0 & 0 &  23.650521 &  23.650521 &   30.039012 &  30.039012 &   24.328147 &  24.328147 & NaN & NaN\\\\\n",
       "\t8 & desktop & Internet Explorer & 5 &  50831 & 1559 &  1512 & 6 &  44165 & 1378 &   675 & 0 & 0 & -13.114045 &  13.114045 &  -11.610006 &  11.610006 &  -55.357143 &  55.357143 & NaN & NaN\\\\\n",
       "\t9 & desktop & Maxthon           & 5 &     44 &    0 &     0 & 6 &     39 &    0 &     0 & 0 & 0 & -11.363636 &  11.363636 &         NaN &        NaN &         NaN &        NaN & NaN & NaN\\\\\n",
       "\t10 & desktop & Mozilla           & 5 &     83 &    2 &     3 & 6 &     34 &    0 &     0 & 0 & 0 & -59.036145 &  59.036145 & -100.000000 & 100.000000 & -100.000000 & 100.000000 & NaN & NaN\\\\\n",
       "\\end{tabular}\n"
      ],
      "text/markdown": [
       "\n",
       "A data.frame: 10 × 20\n",
       "\n",
       "| <!--/--> | DeviceCategory &lt;chr&gt; | Browser &lt;chr&gt; | PreviousMonth &lt;dbl&gt; | PreviousSessions &lt;dbl&gt; | PreviousTransactions &lt;dbl&gt; | PreviousQTY &lt;dbl&gt; | RecentMonth &lt;dbl&gt; | RecentSessions &lt;dbl&gt; | RecentTransactions &lt;dbl&gt; | RecentQTY &lt;dbl&gt; | PreviousAddsToCart &lt;dbl&gt; | RecentAddsToCart &lt;dbl&gt; | MoMSessionsREL &lt;dbl&gt; | MoMSessionsABS &lt;dbl&gt; | MoMTransactionsREL &lt;dbl&gt; | MoMTransactionsABS &lt;dbl&gt; | MoMqtyREL &lt;dbl&gt; | MoMqtyABS &lt;dbl&gt; | MoMAddsToCartREL &lt;dbl&gt; | MoMAddsToCartABS &lt;dbl&gt; |\n",
       "|---|---|---|---|---|---|---|---|---|---|---|---|---|---|---|---|---|---|---|---|---|\n",
       "| 1 | desktop | Chrome            | 5 | 232256 | 7345 | 13852 | 6 | 235084 | 7789 | 14863 | 0 | 0 |   1.217622 |   1.217622 |    6.044929 |   6.044929 |    7.298585 |   7.298585 | NaN | NaN |\n",
       "| 2 | desktop | Coc Coc           | 5 |      6 |    0 |     0 | 6 |     20 |    0 |     0 | 0 | 0 | 233.333333 | 233.333333 |         NaN |        NaN |         NaN |        NaN | NaN | NaN |\n",
       "| 3 | desktop | DDG-Android-3.1.1 | 5 |      5 |    0 |     0 | 6 |      2 |    0 |     0 | 0 | 0 | -60.000000 |  60.000000 |         NaN |        NaN |         NaN |        NaN | NaN | NaN |\n",
       "| 4 | desktop | DESKTOP           | 5 |     40 |    0 |     0 | 6 |     12 |    0 |     0 | 0 | 0 | -70.000000 |  70.000000 |         NaN |        NaN |         NaN |        NaN | NaN | NaN |\n",
       "| 5 | desktop | Edge              | 5 |  28263 |  949 |  1702 | 6 |  26844 |  720 |  1390 | 0 | 0 |  -5.020698 |   5.020698 |  -24.130664 |  24.130664 |  -18.331375 |  18.331375 | NaN | NaN |\n",
       "| 6 | desktop | error             | 5 |    255 |    0 |     0 | 6 |    308 |    0 |     0 | 0 | 0 |  20.784314 |  20.784314 |         NaN |        NaN |         NaN |        NaN | NaN | NaN |\n",
       "| 7 | desktop | Firefox           | 5 |  45462 | 1538 |  2828 | 6 |  56214 | 2000 |  3516 | 0 | 0 |  23.650521 |  23.650521 |   30.039012 |  30.039012 |   24.328147 |  24.328147 | NaN | NaN |\n",
       "| 8 | desktop | Internet Explorer | 5 |  50831 | 1559 |  1512 | 6 |  44165 | 1378 |   675 | 0 | 0 | -13.114045 |  13.114045 |  -11.610006 |  11.610006 |  -55.357143 |  55.357143 | NaN | NaN |\n",
       "| 9 | desktop | Maxthon           | 5 |     44 |    0 |     0 | 6 |     39 |    0 |     0 | 0 | 0 | -11.363636 |  11.363636 |         NaN |        NaN |         NaN |        NaN | NaN | NaN |\n",
       "| 10 | desktop | Mozilla           | 5 |     83 |    2 |     3 | 6 |     34 |    0 |     0 | 0 | 0 | -59.036145 |  59.036145 | -100.000000 | 100.000000 | -100.000000 | 100.000000 | NaN | NaN |\n",
       "\n"
      ],
      "text/plain": [
       "   DeviceCategory Browser           PreviousMonth PreviousSessions\n",
       "1  desktop        Chrome            5             232256          \n",
       "2  desktop        Coc Coc           5                  6          \n",
       "3  desktop        DDG-Android-3.1.1 5                  5          \n",
       "4  desktop        DESKTOP           5                 40          \n",
       "5  desktop        Edge              5              28263          \n",
       "6  desktop        error             5                255          \n",
       "7  desktop        Firefox           5              45462          \n",
       "8  desktop        Internet Explorer 5              50831          \n",
       "9  desktop        Maxthon           5                 44          \n",
       "10 desktop        Mozilla           5                 83          \n",
       "   PreviousTransactions PreviousQTY RecentMonth RecentSessions\n",
       "1  7345                 13852       6           235084        \n",
       "2     0                     0       6               20        \n",
       "3     0                     0       6                2        \n",
       "4     0                     0       6               12        \n",
       "5   949                  1702       6            26844        \n",
       "6     0                     0       6              308        \n",
       "7  1538                  2828       6            56214        \n",
       "8  1559                  1512       6            44165        \n",
       "9     0                     0       6               39        \n",
       "10    2                     3       6               34        \n",
       "   RecentTransactions RecentQTY PreviousAddsToCart RecentAddsToCart\n",
       "1  7789               14863     0                  0               \n",
       "2     0                   0     0                  0               \n",
       "3     0                   0     0                  0               \n",
       "4     0                   0     0                  0               \n",
       "5   720                1390     0                  0               \n",
       "6     0                   0     0                  0               \n",
       "7  2000                3516     0                  0               \n",
       "8  1378                 675     0                  0               \n",
       "9     0                   0     0                  0               \n",
       "10    0                   0     0                  0               \n",
       "   MoMSessionsREL MoMSessionsABS MoMTransactionsREL MoMTransactionsABS\n",
       "1    1.217622       1.217622        6.044929          6.044929        \n",
       "2  233.333333     233.333333             NaN               NaN        \n",
       "3  -60.000000      60.000000             NaN               NaN        \n",
       "4  -70.000000      70.000000             NaN               NaN        \n",
       "5   -5.020698       5.020698      -24.130664         24.130664        \n",
       "6   20.784314      20.784314             NaN               NaN        \n",
       "7   23.650521      23.650521       30.039012         30.039012        \n",
       "8  -13.114045      13.114045      -11.610006         11.610006        \n",
       "9  -11.363636      11.363636             NaN               NaN        \n",
       "10 -59.036145      59.036145     -100.000000        100.000000        \n",
       "   MoMqtyREL   MoMqtyABS  MoMAddsToCartREL MoMAddsToCartABS\n",
       "1     7.298585   7.298585 NaN              NaN             \n",
       "2          NaN        NaN NaN              NaN             \n",
       "3          NaN        NaN NaN              NaN             \n",
       "4          NaN        NaN NaN              NaN             \n",
       "5   -18.331375  18.331375 NaN              NaN             \n",
       "6          NaN        NaN NaN              NaN             \n",
       "7    24.328147  24.328147 NaN              NaN             \n",
       "8   -55.357143  55.357143 NaN              NaN             \n",
       "9          NaN        NaN NaN              NaN             \n",
       "10 -100.000000 100.000000 NaN              NaN             "
      ]
     },
     "metadata": {},
     "output_type": "display_data"
    }
   ],
   "source": [
    "#adding the month*month calculations- \n",
    "#(Value this month – Value previous month) x 100 / Previous month\n",
    "finaldf['MoMSessionsREL']=(finaldf$RecentSessions-finaldf$PreviousSessions)*100/finaldf$PreviousSessions\n",
    "finaldf['MoMSessionsABS']=abs((finaldf$RecentSessions-finaldf$PreviousSessions)*100/finaldf$PreviousSessions)\n",
    "\n",
    "finaldf['MoMTransactionsREL']=(finaldf$RecentTransactions-finaldf$PreviousTransactions)*100/finaldf$PreviousTransactions\n",
    "finaldf['MoMTransactionsABS']=abs((finaldf$RecentTransactions-finaldf$PreviousTransactions)*100/finaldf$PreviousTransactions)\n",
    "\n",
    "finaldf['MoMqtyREL']=(finaldf$RecentQTY-finaldf$PreviousQTY)*100/finaldf$PreviousQTY\n",
    "finaldf['MoMqtyABS']=abs((finaldf$RecentQTY-finaldf$PreviousQTY)*100/finaldf$PreviousQTY)\n",
    "\n",
    "finaldf['MoMAddsToCartREL']=(finaldf$RecentAddsToCart-finaldf$PreviousAddsToCart)*100/finaldf$PreviousAddsToCart\n",
    "finaldf['MoMAddsToCartABS']=abs((finaldf$RecentAddsToCart-finaldf$PreviousAddsToCart)*100/finaldf$PreviousAddsToCart)\n",
    "head(finaldf,10)"
   ]
  },
  {
   "cell_type": "code",
   "execution_count": 481,
   "metadata": {},
   "outputs": [
    {
     "data": {
      "text/html": [
       "<table>\n",
       "<caption>A data.frame: 10 × 20</caption>\n",
       "<thead>\n",
       "\t<tr><th></th><th scope=col>DeviceCategory</th><th scope=col>Browser</th><th scope=col>PreviousMonth</th><th scope=col>PreviousSessions</th><th scope=col>PreviousTransactions</th><th scope=col>PreviousQTY</th><th scope=col>RecentMonth</th><th scope=col>RecentSessions</th><th scope=col>RecentTransactions</th><th scope=col>RecentQTY</th><th scope=col>PreviousAddsToCart</th><th scope=col>RecentAddsToCart</th><th scope=col>MoMSessionsREL</th><th scope=col>MoMSessionsABS</th><th scope=col>MoMTransactionsREL</th><th scope=col>MoMTransactionsABS</th><th scope=col>MoMqtyREL</th><th scope=col>MoMqtyABS</th><th scope=col>MoMAddsToCartREL</th><th scope=col>MoMAddsToCartABS</th></tr>\n",
       "\t<tr><th></th><th scope=col>&lt;chr&gt;</th><th scope=col>&lt;chr&gt;</th><th scope=col>&lt;dbl&gt;</th><th scope=col>&lt;dbl&gt;</th><th scope=col>&lt;dbl&gt;</th><th scope=col>&lt;dbl&gt;</th><th scope=col>&lt;dbl&gt;</th><th scope=col>&lt;dbl&gt;</th><th scope=col>&lt;dbl&gt;</th><th scope=col>&lt;dbl&gt;</th><th scope=col>&lt;dbl&gt;</th><th scope=col>&lt;dbl&gt;</th><th scope=col>&lt;dbl&gt;</th><th scope=col>&lt;dbl&gt;</th><th scope=col>&lt;dbl&gt;</th><th scope=col>&lt;dbl&gt;</th><th scope=col>&lt;dbl&gt;</th><th scope=col>&lt;dbl&gt;</th><th scope=col>&lt;dbl&gt;</th><th scope=col>&lt;dbl&gt;</th></tr>\n",
       "</thead>\n",
       "<tbody>\n",
       "\t<tr><th scope=row>1</th><td>desktop</td><td>Chrome           </td><td>5</td><td>232256</td><td>7345</td><td>13852</td><td>6</td><td>235084</td><td>7789</td><td>14863</td><td>0</td><td>0</td><td>  1.217622</td><td>  1.217622</td><td>   6.044929</td><td>  6.044929</td><td>   7.298585</td><td>  7.298585</td><td>0</td><td>0</td></tr>\n",
       "\t<tr><th scope=row>2</th><td>desktop</td><td>Coc Coc          </td><td>5</td><td>     6</td><td>   0</td><td>    0</td><td>6</td><td>    20</td><td>   0</td><td>    0</td><td>0</td><td>0</td><td>233.333333</td><td>233.333333</td><td>   0.000000</td><td>  0.000000</td><td>   0.000000</td><td>  0.000000</td><td>0</td><td>0</td></tr>\n",
       "\t<tr><th scope=row>3</th><td>desktop</td><td>DDG-Android-3.1.1</td><td>5</td><td>     5</td><td>   0</td><td>    0</td><td>6</td><td>     2</td><td>   0</td><td>    0</td><td>0</td><td>0</td><td>-60.000000</td><td> 60.000000</td><td>   0.000000</td><td>  0.000000</td><td>   0.000000</td><td>  0.000000</td><td>0</td><td>0</td></tr>\n",
       "\t<tr><th scope=row>4</th><td>desktop</td><td>DESKTOP          </td><td>5</td><td>    40</td><td>   0</td><td>    0</td><td>6</td><td>    12</td><td>   0</td><td>    0</td><td>0</td><td>0</td><td>-70.000000</td><td> 70.000000</td><td>   0.000000</td><td>  0.000000</td><td>   0.000000</td><td>  0.000000</td><td>0</td><td>0</td></tr>\n",
       "\t<tr><th scope=row>5</th><td>desktop</td><td>Edge             </td><td>5</td><td> 28263</td><td> 949</td><td> 1702</td><td>6</td><td> 26844</td><td> 720</td><td> 1390</td><td>0</td><td>0</td><td> -5.020698</td><td>  5.020698</td><td> -24.130664</td><td> 24.130664</td><td> -18.331375</td><td> 18.331375</td><td>0</td><td>0</td></tr>\n",
       "\t<tr><th scope=row>6</th><td>desktop</td><td>error            </td><td>5</td><td>   255</td><td>   0</td><td>    0</td><td>6</td><td>   308</td><td>   0</td><td>    0</td><td>0</td><td>0</td><td> 20.784314</td><td> 20.784314</td><td>   0.000000</td><td>  0.000000</td><td>   0.000000</td><td>  0.000000</td><td>0</td><td>0</td></tr>\n",
       "\t<tr><th scope=row>7</th><td>desktop</td><td>Firefox          </td><td>5</td><td> 45462</td><td>1538</td><td> 2828</td><td>6</td><td> 56214</td><td>2000</td><td> 3516</td><td>0</td><td>0</td><td> 23.650521</td><td> 23.650521</td><td>  30.039012</td><td> 30.039012</td><td>  24.328147</td><td> 24.328147</td><td>0</td><td>0</td></tr>\n",
       "\t<tr><th scope=row>8</th><td>desktop</td><td>Internet Explorer</td><td>5</td><td> 50831</td><td>1559</td><td> 1512</td><td>6</td><td> 44165</td><td>1378</td><td>  675</td><td>0</td><td>0</td><td>-13.114045</td><td> 13.114045</td><td> -11.610006</td><td> 11.610006</td><td> -55.357143</td><td> 55.357143</td><td>0</td><td>0</td></tr>\n",
       "\t<tr><th scope=row>9</th><td>desktop</td><td>Maxthon          </td><td>5</td><td>    44</td><td>   0</td><td>    0</td><td>6</td><td>    39</td><td>   0</td><td>    0</td><td>0</td><td>0</td><td>-11.363636</td><td> 11.363636</td><td>   0.000000</td><td>  0.000000</td><td>   0.000000</td><td>  0.000000</td><td>0</td><td>0</td></tr>\n",
       "\t<tr><th scope=row>10</th><td>desktop</td><td>Mozilla          </td><td>5</td><td>    83</td><td>   2</td><td>    3</td><td>6</td><td>    34</td><td>   0</td><td>    0</td><td>0</td><td>0</td><td>-59.036145</td><td> 59.036145</td><td>-100.000000</td><td>100.000000</td><td>-100.000000</td><td>100.000000</td><td>0</td><td>0</td></tr>\n",
       "</tbody>\n",
       "</table>\n"
      ],
      "text/latex": [
       "A data.frame: 10 × 20\n",
       "\\begin{tabular}{r|llllllllllllllllllll}\n",
       "  & DeviceCategory & Browser & PreviousMonth & PreviousSessions & PreviousTransactions & PreviousQTY & RecentMonth & RecentSessions & RecentTransactions & RecentQTY & PreviousAddsToCart & RecentAddsToCart & MoMSessionsREL & MoMSessionsABS & MoMTransactionsREL & MoMTransactionsABS & MoMqtyREL & MoMqtyABS & MoMAddsToCartREL & MoMAddsToCartABS\\\\\n",
       "  & <chr> & <chr> & <dbl> & <dbl> & <dbl> & <dbl> & <dbl> & <dbl> & <dbl> & <dbl> & <dbl> & <dbl> & <dbl> & <dbl> & <dbl> & <dbl> & <dbl> & <dbl> & <dbl> & <dbl>\\\\\n",
       "\\hline\n",
       "\t1 & desktop & Chrome            & 5 & 232256 & 7345 & 13852 & 6 & 235084 & 7789 & 14863 & 0 & 0 &   1.217622 &   1.217622 &    6.044929 &   6.044929 &    7.298585 &   7.298585 & 0 & 0\\\\\n",
       "\t2 & desktop & Coc Coc           & 5 &      6 &    0 &     0 & 6 &     20 &    0 &     0 & 0 & 0 & 233.333333 & 233.333333 &    0.000000 &   0.000000 &    0.000000 &   0.000000 & 0 & 0\\\\\n",
       "\t3 & desktop & DDG-Android-3.1.1 & 5 &      5 &    0 &     0 & 6 &      2 &    0 &     0 & 0 & 0 & -60.000000 &  60.000000 &    0.000000 &   0.000000 &    0.000000 &   0.000000 & 0 & 0\\\\\n",
       "\t4 & desktop & DESKTOP           & 5 &     40 &    0 &     0 & 6 &     12 &    0 &     0 & 0 & 0 & -70.000000 &  70.000000 &    0.000000 &   0.000000 &    0.000000 &   0.000000 & 0 & 0\\\\\n",
       "\t5 & desktop & Edge              & 5 &  28263 &  949 &  1702 & 6 &  26844 &  720 &  1390 & 0 & 0 &  -5.020698 &   5.020698 &  -24.130664 &  24.130664 &  -18.331375 &  18.331375 & 0 & 0\\\\\n",
       "\t6 & desktop & error             & 5 &    255 &    0 &     0 & 6 &    308 &    0 &     0 & 0 & 0 &  20.784314 &  20.784314 &    0.000000 &   0.000000 &    0.000000 &   0.000000 & 0 & 0\\\\\n",
       "\t7 & desktop & Firefox           & 5 &  45462 & 1538 &  2828 & 6 &  56214 & 2000 &  3516 & 0 & 0 &  23.650521 &  23.650521 &   30.039012 &  30.039012 &   24.328147 &  24.328147 & 0 & 0\\\\\n",
       "\t8 & desktop & Internet Explorer & 5 &  50831 & 1559 &  1512 & 6 &  44165 & 1378 &   675 & 0 & 0 & -13.114045 &  13.114045 &  -11.610006 &  11.610006 &  -55.357143 &  55.357143 & 0 & 0\\\\\n",
       "\t9 & desktop & Maxthon           & 5 &     44 &    0 &     0 & 6 &     39 &    0 &     0 & 0 & 0 & -11.363636 &  11.363636 &    0.000000 &   0.000000 &    0.000000 &   0.000000 & 0 & 0\\\\\n",
       "\t10 & desktop & Mozilla           & 5 &     83 &    2 &     3 & 6 &     34 &    0 &     0 & 0 & 0 & -59.036145 &  59.036145 & -100.000000 & 100.000000 & -100.000000 & 100.000000 & 0 & 0\\\\\n",
       "\\end{tabular}\n"
      ],
      "text/markdown": [
       "\n",
       "A data.frame: 10 × 20\n",
       "\n",
       "| <!--/--> | DeviceCategory &lt;chr&gt; | Browser &lt;chr&gt; | PreviousMonth &lt;dbl&gt; | PreviousSessions &lt;dbl&gt; | PreviousTransactions &lt;dbl&gt; | PreviousQTY &lt;dbl&gt; | RecentMonth &lt;dbl&gt; | RecentSessions &lt;dbl&gt; | RecentTransactions &lt;dbl&gt; | RecentQTY &lt;dbl&gt; | PreviousAddsToCart &lt;dbl&gt; | RecentAddsToCart &lt;dbl&gt; | MoMSessionsREL &lt;dbl&gt; | MoMSessionsABS &lt;dbl&gt; | MoMTransactionsREL &lt;dbl&gt; | MoMTransactionsABS &lt;dbl&gt; | MoMqtyREL &lt;dbl&gt; | MoMqtyABS &lt;dbl&gt; | MoMAddsToCartREL &lt;dbl&gt; | MoMAddsToCartABS &lt;dbl&gt; |\n",
       "|---|---|---|---|---|---|---|---|---|---|---|---|---|---|---|---|---|---|---|---|---|\n",
       "| 1 | desktop | Chrome            | 5 | 232256 | 7345 | 13852 | 6 | 235084 | 7789 | 14863 | 0 | 0 |   1.217622 |   1.217622 |    6.044929 |   6.044929 |    7.298585 |   7.298585 | 0 | 0 |\n",
       "| 2 | desktop | Coc Coc           | 5 |      6 |    0 |     0 | 6 |     20 |    0 |     0 | 0 | 0 | 233.333333 | 233.333333 |    0.000000 |   0.000000 |    0.000000 |   0.000000 | 0 | 0 |\n",
       "| 3 | desktop | DDG-Android-3.1.1 | 5 |      5 |    0 |     0 | 6 |      2 |    0 |     0 | 0 | 0 | -60.000000 |  60.000000 |    0.000000 |   0.000000 |    0.000000 |   0.000000 | 0 | 0 |\n",
       "| 4 | desktop | DESKTOP           | 5 |     40 |    0 |     0 | 6 |     12 |    0 |     0 | 0 | 0 | -70.000000 |  70.000000 |    0.000000 |   0.000000 |    0.000000 |   0.000000 | 0 | 0 |\n",
       "| 5 | desktop | Edge              | 5 |  28263 |  949 |  1702 | 6 |  26844 |  720 |  1390 | 0 | 0 |  -5.020698 |   5.020698 |  -24.130664 |  24.130664 |  -18.331375 |  18.331375 | 0 | 0 |\n",
       "| 6 | desktop | error             | 5 |    255 |    0 |     0 | 6 |    308 |    0 |     0 | 0 | 0 |  20.784314 |  20.784314 |    0.000000 |   0.000000 |    0.000000 |   0.000000 | 0 | 0 |\n",
       "| 7 | desktop | Firefox           | 5 |  45462 | 1538 |  2828 | 6 |  56214 | 2000 |  3516 | 0 | 0 |  23.650521 |  23.650521 |   30.039012 |  30.039012 |   24.328147 |  24.328147 | 0 | 0 |\n",
       "| 8 | desktop | Internet Explorer | 5 |  50831 | 1559 |  1512 | 6 |  44165 | 1378 |   675 | 0 | 0 | -13.114045 |  13.114045 |  -11.610006 |  11.610006 |  -55.357143 |  55.357143 | 0 | 0 |\n",
       "| 9 | desktop | Maxthon           | 5 |     44 |    0 |     0 | 6 |     39 |    0 |     0 | 0 | 0 | -11.363636 |  11.363636 |    0.000000 |   0.000000 |    0.000000 |   0.000000 | 0 | 0 |\n",
       "| 10 | desktop | Mozilla           | 5 |     83 |    2 |     3 | 6 |     34 |    0 |     0 | 0 | 0 | -59.036145 |  59.036145 | -100.000000 | 100.000000 | -100.000000 | 100.000000 | 0 | 0 |\n",
       "\n"
      ],
      "text/plain": [
       "   DeviceCategory Browser           PreviousMonth PreviousSessions\n",
       "1  desktop        Chrome            5             232256          \n",
       "2  desktop        Coc Coc           5                  6          \n",
       "3  desktop        DDG-Android-3.1.1 5                  5          \n",
       "4  desktop        DESKTOP           5                 40          \n",
       "5  desktop        Edge              5              28263          \n",
       "6  desktop        error             5                255          \n",
       "7  desktop        Firefox           5              45462          \n",
       "8  desktop        Internet Explorer 5              50831          \n",
       "9  desktop        Maxthon           5                 44          \n",
       "10 desktop        Mozilla           5                 83          \n",
       "   PreviousTransactions PreviousQTY RecentMonth RecentSessions\n",
       "1  7345                 13852       6           235084        \n",
       "2     0                     0       6               20        \n",
       "3     0                     0       6                2        \n",
       "4     0                     0       6               12        \n",
       "5   949                  1702       6            26844        \n",
       "6     0                     0       6              308        \n",
       "7  1538                  2828       6            56214        \n",
       "8  1559                  1512       6            44165        \n",
       "9     0                     0       6               39        \n",
       "10    2                     3       6               34        \n",
       "   RecentTransactions RecentQTY PreviousAddsToCart RecentAddsToCart\n",
       "1  7789               14863     0                  0               \n",
       "2     0                   0     0                  0               \n",
       "3     0                   0     0                  0               \n",
       "4     0                   0     0                  0               \n",
       "5   720                1390     0                  0               \n",
       "6     0                   0     0                  0               \n",
       "7  2000                3516     0                  0               \n",
       "8  1378                 675     0                  0               \n",
       "9     0                   0     0                  0               \n",
       "10    0                   0     0                  0               \n",
       "   MoMSessionsREL MoMSessionsABS MoMTransactionsREL MoMTransactionsABS\n",
       "1    1.217622       1.217622        6.044929          6.044929        \n",
       "2  233.333333     233.333333        0.000000          0.000000        \n",
       "3  -60.000000      60.000000        0.000000          0.000000        \n",
       "4  -70.000000      70.000000        0.000000          0.000000        \n",
       "5   -5.020698       5.020698      -24.130664         24.130664        \n",
       "6   20.784314      20.784314        0.000000          0.000000        \n",
       "7   23.650521      23.650521       30.039012         30.039012        \n",
       "8  -13.114045      13.114045      -11.610006         11.610006        \n",
       "9  -11.363636      11.363636        0.000000          0.000000        \n",
       "10 -59.036145      59.036145     -100.000000        100.000000        \n",
       "   MoMqtyREL   MoMqtyABS  MoMAddsToCartREL MoMAddsToCartABS\n",
       "1     7.298585   7.298585 0                0               \n",
       "2     0.000000   0.000000 0                0               \n",
       "3     0.000000   0.000000 0                0               \n",
       "4     0.000000   0.000000 0                0               \n",
       "5   -18.331375  18.331375 0                0               \n",
       "6     0.000000   0.000000 0                0               \n",
       "7    24.328147  24.328147 0                0               \n",
       "8   -55.357143  55.357143 0                0               \n",
       "9     0.000000   0.000000 0                0               \n",
       "10 -100.000000 100.000000 0                0               "
      ]
     },
     "metadata": {},
     "output_type": "display_data"
    }
   ],
   "source": [
    "#replacing NaN with 0\n",
    " finaldf[is.na(finaldf)] = 0\n",
    "head(finaldf,10)"
   ]
  },
  {
   "cell_type": "code",
   "execution_count": 482,
   "metadata": {},
   "outputs": [
    {
     "data": {
      "text/html": [
       "<table>\n",
       "<caption>A data.frame: 6 × 20</caption>\n",
       "<thead>\n",
       "\t<tr><th></th><th scope=col>DeviceCategory</th><th scope=col>Browser</th><th scope=col>PreviousMonth</th><th scope=col>PreviousSessions</th><th scope=col>PreviousTransactions</th><th scope=col>PreviousQTY</th><th scope=col>RecentMonth</th><th scope=col>RecentSessions</th><th scope=col>RecentTransactions</th><th scope=col>RecentQTY</th><th scope=col>PreviousAddsToCart</th><th scope=col>RecentAddsToCart</th><th scope=col>MoMSessionsREL</th><th scope=col>MoMSessionsABS</th><th scope=col>MoMTransactionsREL</th><th scope=col>MoMTransactionsABS</th><th scope=col>MoMqtyREL</th><th scope=col>MoMqtyABS</th><th scope=col>MoMAddsToCartREL</th><th scope=col>MoMAddsToCartABS</th></tr>\n",
       "\t<tr><th></th><th scope=col>&lt;chr&gt;</th><th scope=col>&lt;chr&gt;</th><th scope=col>&lt;dbl&gt;</th><th scope=col>&lt;dbl&gt;</th><th scope=col>&lt;dbl&gt;</th><th scope=col>&lt;dbl&gt;</th><th scope=col>&lt;dbl&gt;</th><th scope=col>&lt;dbl&gt;</th><th scope=col>&lt;dbl&gt;</th><th scope=col>&lt;dbl&gt;</th><th scope=col>&lt;dbl&gt;</th><th scope=col>&lt;dbl&gt;</th><th scope=col>&lt;dbl&gt;</th><th scope=col>&lt;dbl&gt;</th><th scope=col>&lt;dbl&gt;</th><th scope=col>&lt;dbl&gt;</th><th scope=col>&lt;dbl&gt;</th><th scope=col>&lt;dbl&gt;</th><th scope=col>&lt;dbl&gt;</th><th scope=col>&lt;dbl&gt;</th></tr>\n",
       "</thead>\n",
       "<tbody>\n",
       "\t<tr><th scope=row>1</th><td>desktop</td><td>Chrome           </td><td>5</td><td>232256</td><td>7345</td><td>13852</td><td>6</td><td>235084</td><td>7789</td><td>14863</td><td>0</td><td>0</td><td>  1.217622</td><td>  1.217622</td><td>  6.044929</td><td> 6.044929</td><td>  7.298585</td><td> 7.298585</td><td>0</td><td>0</td></tr>\n",
       "\t<tr><th scope=row>2</th><td>desktop</td><td>Coc Coc          </td><td>5</td><td>     6</td><td>   0</td><td>    0</td><td>6</td><td>    20</td><td>   0</td><td>    0</td><td>0</td><td>0</td><td>233.333333</td><td>233.333333</td><td>  0.000000</td><td> 0.000000</td><td>  0.000000</td><td> 0.000000</td><td>0</td><td>0</td></tr>\n",
       "\t<tr><th scope=row>3</th><td>desktop</td><td>DDG-Android-3.1.1</td><td>5</td><td>     5</td><td>   0</td><td>    0</td><td>6</td><td>     2</td><td>   0</td><td>    0</td><td>0</td><td>0</td><td>-60.000000</td><td> 60.000000</td><td>  0.000000</td><td> 0.000000</td><td>  0.000000</td><td> 0.000000</td><td>0</td><td>0</td></tr>\n",
       "\t<tr><th scope=row>4</th><td>desktop</td><td>DESKTOP          </td><td>5</td><td>    40</td><td>   0</td><td>    0</td><td>6</td><td>    12</td><td>   0</td><td>    0</td><td>0</td><td>0</td><td>-70.000000</td><td> 70.000000</td><td>  0.000000</td><td> 0.000000</td><td>  0.000000</td><td> 0.000000</td><td>0</td><td>0</td></tr>\n",
       "\t<tr><th scope=row>5</th><td>desktop</td><td>Edge             </td><td>5</td><td> 28263</td><td> 949</td><td> 1702</td><td>6</td><td> 26844</td><td> 720</td><td> 1390</td><td>0</td><td>0</td><td> -5.020698</td><td>  5.020698</td><td>-24.130664</td><td>24.130664</td><td>-18.331375</td><td>18.331375</td><td>0</td><td>0</td></tr>\n",
       "\t<tr><th scope=row>6</th><td>desktop</td><td>error            </td><td>5</td><td>   255</td><td>   0</td><td>    0</td><td>6</td><td>   308</td><td>   0</td><td>    0</td><td>0</td><td>0</td><td> 20.784314</td><td> 20.784314</td><td>  0.000000</td><td> 0.000000</td><td>  0.000000</td><td> 0.000000</td><td>0</td><td>0</td></tr>\n",
       "</tbody>\n",
       "</table>\n"
      ],
      "text/latex": [
       "A data.frame: 6 × 20\n",
       "\\begin{tabular}{r|llllllllllllllllllll}\n",
       "  & DeviceCategory & Browser & PreviousMonth & PreviousSessions & PreviousTransactions & PreviousQTY & RecentMonth & RecentSessions & RecentTransactions & RecentQTY & PreviousAddsToCart & RecentAddsToCart & MoMSessionsREL & MoMSessionsABS & MoMTransactionsREL & MoMTransactionsABS & MoMqtyREL & MoMqtyABS & MoMAddsToCartREL & MoMAddsToCartABS\\\\\n",
       "  & <chr> & <chr> & <dbl> & <dbl> & <dbl> & <dbl> & <dbl> & <dbl> & <dbl> & <dbl> & <dbl> & <dbl> & <dbl> & <dbl> & <dbl> & <dbl> & <dbl> & <dbl> & <dbl> & <dbl>\\\\\n",
       "\\hline\n",
       "\t1 & desktop & Chrome            & 5 & 232256 & 7345 & 13852 & 6 & 235084 & 7789 & 14863 & 0 & 0 &   1.217622 &   1.217622 &   6.044929 &  6.044929 &   7.298585 &  7.298585 & 0 & 0\\\\\n",
       "\t2 & desktop & Coc Coc           & 5 &      6 &    0 &     0 & 6 &     20 &    0 &     0 & 0 & 0 & 233.333333 & 233.333333 &   0.000000 &  0.000000 &   0.000000 &  0.000000 & 0 & 0\\\\\n",
       "\t3 & desktop & DDG-Android-3.1.1 & 5 &      5 &    0 &     0 & 6 &      2 &    0 &     0 & 0 & 0 & -60.000000 &  60.000000 &   0.000000 &  0.000000 &   0.000000 &  0.000000 & 0 & 0\\\\\n",
       "\t4 & desktop & DESKTOP           & 5 &     40 &    0 &     0 & 6 &     12 &    0 &     0 & 0 & 0 & -70.000000 &  70.000000 &   0.000000 &  0.000000 &   0.000000 &  0.000000 & 0 & 0\\\\\n",
       "\t5 & desktop & Edge              & 5 &  28263 &  949 &  1702 & 6 &  26844 &  720 &  1390 & 0 & 0 &  -5.020698 &   5.020698 & -24.130664 & 24.130664 & -18.331375 & 18.331375 & 0 & 0\\\\\n",
       "\t6 & desktop & error             & 5 &    255 &    0 &     0 & 6 &    308 &    0 &     0 & 0 & 0 &  20.784314 &  20.784314 &   0.000000 &  0.000000 &   0.000000 &  0.000000 & 0 & 0\\\\\n",
       "\\end{tabular}\n"
      ],
      "text/markdown": [
       "\n",
       "A data.frame: 6 × 20\n",
       "\n",
       "| <!--/--> | DeviceCategory &lt;chr&gt; | Browser &lt;chr&gt; | PreviousMonth &lt;dbl&gt; | PreviousSessions &lt;dbl&gt; | PreviousTransactions &lt;dbl&gt; | PreviousQTY &lt;dbl&gt; | RecentMonth &lt;dbl&gt; | RecentSessions &lt;dbl&gt; | RecentTransactions &lt;dbl&gt; | RecentQTY &lt;dbl&gt; | PreviousAddsToCart &lt;dbl&gt; | RecentAddsToCart &lt;dbl&gt; | MoMSessionsREL &lt;dbl&gt; | MoMSessionsABS &lt;dbl&gt; | MoMTransactionsREL &lt;dbl&gt; | MoMTransactionsABS &lt;dbl&gt; | MoMqtyREL &lt;dbl&gt; | MoMqtyABS &lt;dbl&gt; | MoMAddsToCartREL &lt;dbl&gt; | MoMAddsToCartABS &lt;dbl&gt; |\n",
       "|---|---|---|---|---|---|---|---|---|---|---|---|---|---|---|---|---|---|---|---|---|\n",
       "| 1 | desktop | Chrome            | 5 | 232256 | 7345 | 13852 | 6 | 235084 | 7789 | 14863 | 0 | 0 |   1.217622 |   1.217622 |   6.044929 |  6.044929 |   7.298585 |  7.298585 | 0 | 0 |\n",
       "| 2 | desktop | Coc Coc           | 5 |      6 |    0 |     0 | 6 |     20 |    0 |     0 | 0 | 0 | 233.333333 | 233.333333 |   0.000000 |  0.000000 |   0.000000 |  0.000000 | 0 | 0 |\n",
       "| 3 | desktop | DDG-Android-3.1.1 | 5 |      5 |    0 |     0 | 6 |      2 |    0 |     0 | 0 | 0 | -60.000000 |  60.000000 |   0.000000 |  0.000000 |   0.000000 |  0.000000 | 0 | 0 |\n",
       "| 4 | desktop | DESKTOP           | 5 |     40 |    0 |     0 | 6 |     12 |    0 |     0 | 0 | 0 | -70.000000 |  70.000000 |   0.000000 |  0.000000 |   0.000000 |  0.000000 | 0 | 0 |\n",
       "| 5 | desktop | Edge              | 5 |  28263 |  949 |  1702 | 6 |  26844 |  720 |  1390 | 0 | 0 |  -5.020698 |   5.020698 | -24.130664 | 24.130664 | -18.331375 | 18.331375 | 0 | 0 |\n",
       "| 6 | desktop | error             | 5 |    255 |    0 |     0 | 6 |    308 |    0 |     0 | 0 | 0 |  20.784314 |  20.784314 |   0.000000 |  0.000000 |   0.000000 |  0.000000 | 0 | 0 |\n",
       "\n"
      ],
      "text/plain": [
       "  DeviceCategory Browser           PreviousMonth PreviousSessions\n",
       "1 desktop        Chrome            5             232256          \n",
       "2 desktop        Coc Coc           5                  6          \n",
       "3 desktop        DDG-Android-3.1.1 5                  5          \n",
       "4 desktop        DESKTOP           5                 40          \n",
       "5 desktop        Edge              5              28263          \n",
       "6 desktop        error             5                255          \n",
       "  PreviousTransactions PreviousQTY RecentMonth RecentSessions\n",
       "1 7345                 13852       6           235084        \n",
       "2    0                     0       6               20        \n",
       "3    0                     0       6                2        \n",
       "4    0                     0       6               12        \n",
       "5  949                  1702       6            26844        \n",
       "6    0                     0       6              308        \n",
       "  RecentTransactions RecentQTY PreviousAddsToCart RecentAddsToCart\n",
       "1 7789               14863     0                  0               \n",
       "2    0                   0     0                  0               \n",
       "3    0                   0     0                  0               \n",
       "4    0                   0     0                  0               \n",
       "5  720                1390     0                  0               \n",
       "6    0                   0     0                  0               \n",
       "  MoMSessionsREL MoMSessionsABS MoMTransactionsREL MoMTransactionsABS\n",
       "1   1.217622       1.217622       6.044929          6.044929         \n",
       "2 233.333333     233.333333       0.000000          0.000000         \n",
       "3 -60.000000      60.000000       0.000000          0.000000         \n",
       "4 -70.000000      70.000000       0.000000          0.000000         \n",
       "5  -5.020698       5.020698     -24.130664         24.130664         \n",
       "6  20.784314      20.784314       0.000000          0.000000         \n",
       "  MoMqtyREL  MoMqtyABS MoMAddsToCartREL MoMAddsToCartABS\n",
       "1   7.298585  7.298585 0                0               \n",
       "2   0.000000  0.000000 0                0               \n",
       "3   0.000000  0.000000 0                0               \n",
       "4   0.000000  0.000000 0                0               \n",
       "5 -18.331375 18.331375 0                0               \n",
       "6   0.000000  0.000000 0                0               "
      ]
     },
     "metadata": {},
     "output_type": "display_data"
    }
   ],
   "source": [
    "#I'm not sure how to handle infinity- \n",
    "#I decided to change them all to 100 since they show growth\n",
    "finaldf[mapply(is.infinite, finaldf)] <- 100\n",
    "head(finaldf)"
   ]
  },
  {
   "cell_type": "code",
   "execution_count": 483,
   "metadata": {},
   "outputs": [
    {
     "data": {
      "text/html": [
       "<table>\n",
       "<caption>A data.frame: 6 × 20</caption>\n",
       "<thead>\n",
       "\t<tr><th></th><th scope=col>DeviceCategory</th><th scope=col>Browser</th><th scope=col>PreviousMonth</th><th scope=col>PreviousSessions</th><th scope=col>PreviousTransactions</th><th scope=col>PreviousQTY</th><th scope=col>RecentMonth</th><th scope=col>RecentSessions</th><th scope=col>RecentTransactions</th><th scope=col>RecentQTY</th><th scope=col>PreviousAddsToCart</th><th scope=col>RecentAddsToCart</th><th scope=col>MoMSessionsREL</th><th scope=col>MoMSessionsABS</th><th scope=col>MoMTransactionsREL</th><th scope=col>MoMTransactionsABS</th><th scope=col>MoMqtyREL</th><th scope=col>MoMqtyABS</th><th scope=col>MoMAddsToCartREL</th><th scope=col>MoMAddsToCartABS</th></tr>\n",
       "\t<tr><th></th><th scope=col>&lt;chr&gt;</th><th scope=col>&lt;chr&gt;</th><th scope=col>&lt;dbl&gt;</th><th scope=col>&lt;dbl&gt;</th><th scope=col>&lt;dbl&gt;</th><th scope=col>&lt;dbl&gt;</th><th scope=col>&lt;dbl&gt;</th><th scope=col>&lt;dbl&gt;</th><th scope=col>&lt;dbl&gt;</th><th scope=col>&lt;dbl&gt;</th><th scope=col>&lt;dbl&gt;</th><th scope=col>&lt;dbl&gt;</th><th scope=col>&lt;dbl&gt;</th><th scope=col>&lt;dbl&gt;</th><th scope=col>&lt;dbl&gt;</th><th scope=col>&lt;dbl&gt;</th><th scope=col>&lt;dbl&gt;</th><th scope=col>&lt;dbl&gt;</th><th scope=col>&lt;dbl&gt;</th><th scope=col>&lt;dbl&gt;</th></tr>\n",
       "</thead>\n",
       "<tbody>\n",
       "\t<tr><th scope=row>24</th><td>mobile</td><td>Android Webview  </td><td>5</td><td>7424</td><td> 7</td><td>17</td><td>6</td><td>13073</td><td>54</td><td> 69</td><td>0</td><td>0</td><td> 76.09106</td><td> 76.09106</td><td> 671.42857</td><td> 671.42857</td><td>305.8824</td><td>305.8824</td><td>0</td><td>0</td></tr>\n",
       "\t<tr><th scope=row>30</th><td>mobile</td><td>Internet Explorer</td><td>5</td><td>2731</td><td>28</td><td>36</td><td>6</td><td> 1409</td><td>39</td><td>127</td><td>0</td><td>0</td><td>-48.40718</td><td> 48.40718</td><td>  39.28571</td><td>  39.28571</td><td>252.7778</td><td>252.7778</td><td>0</td><td>0</td></tr>\n",
       "\t<tr><th scope=row>48</th><td>tablet</td><td>Edge             </td><td>5</td><td>  27</td><td> 0</td><td> 1</td><td>6</td><td>   20</td><td> 0</td><td>  3</td><td>0</td><td>0</td><td>-25.92593</td><td> 25.92593</td><td>   0.00000</td><td>   0.00000</td><td>200.0000</td><td>200.0000</td><td>0</td><td>0</td></tr>\n",
       "\t<tr><th scope=row>56</th><td>tablet</td><td>Samsung Internet </td><td>5</td><td> 406</td><td> 6</td><td>16</td><td>6</td><td>  820</td><td>29</td><td> 44</td><td>0</td><td>0</td><td>101.97044</td><td>101.97044</td><td> 383.33333</td><td> 383.33333</td><td>175.0000</td><td>175.0000</td><td>0</td><td>0</td></tr>\n",
       "\t<tr><th scope=row>45</th><td>tablet</td><td>Android Webview  </td><td>5</td><td> 924</td><td> 1</td><td> 4</td><td>6</td><td> 1028</td><td>11</td><td> 10</td><td>0</td><td>0</td><td> 11.25541</td><td> 11.25541</td><td>1000.00000</td><td>1000.00000</td><td>150.0000</td><td>150.0000</td><td>0</td><td>0</td></tr>\n",
       "\t<tr><th scope=row>31</th><td>mobile</td><td>Iron             </td><td>5</td><td>   3</td><td> 0</td><td> 0</td><td>6</td><td>   12</td><td> 4</td><td>  4</td><td>0</td><td>0</td><td>300.00000</td><td>300.00000</td><td> 100.00000</td><td> 100.00000</td><td>100.0000</td><td>100.0000</td><td>0</td><td>0</td></tr>\n",
       "</tbody>\n",
       "</table>\n"
      ],
      "text/latex": [
       "A data.frame: 6 × 20\n",
       "\\begin{tabular}{r|llllllllllllllllllll}\n",
       "  & DeviceCategory & Browser & PreviousMonth & PreviousSessions & PreviousTransactions & PreviousQTY & RecentMonth & RecentSessions & RecentTransactions & RecentQTY & PreviousAddsToCart & RecentAddsToCart & MoMSessionsREL & MoMSessionsABS & MoMTransactionsREL & MoMTransactionsABS & MoMqtyREL & MoMqtyABS & MoMAddsToCartREL & MoMAddsToCartABS\\\\\n",
       "  & <chr> & <chr> & <dbl> & <dbl> & <dbl> & <dbl> & <dbl> & <dbl> & <dbl> & <dbl> & <dbl> & <dbl> & <dbl> & <dbl> & <dbl> & <dbl> & <dbl> & <dbl> & <dbl> & <dbl>\\\\\n",
       "\\hline\n",
       "\t24 & mobile & Android Webview   & 5 & 7424 &  7 & 17 & 6 & 13073 & 54 &  69 & 0 & 0 &  76.09106 &  76.09106 &  671.42857 &  671.42857 & 305.8824 & 305.8824 & 0 & 0\\\\\n",
       "\t30 & mobile & Internet Explorer & 5 & 2731 & 28 & 36 & 6 &  1409 & 39 & 127 & 0 & 0 & -48.40718 &  48.40718 &   39.28571 &   39.28571 & 252.7778 & 252.7778 & 0 & 0\\\\\n",
       "\t48 & tablet & Edge              & 5 &   27 &  0 &  1 & 6 &    20 &  0 &   3 & 0 & 0 & -25.92593 &  25.92593 &    0.00000 &    0.00000 & 200.0000 & 200.0000 & 0 & 0\\\\\n",
       "\t56 & tablet & Samsung Internet  & 5 &  406 &  6 & 16 & 6 &   820 & 29 &  44 & 0 & 0 & 101.97044 & 101.97044 &  383.33333 &  383.33333 & 175.0000 & 175.0000 & 0 & 0\\\\\n",
       "\t45 & tablet & Android Webview   & 5 &  924 &  1 &  4 & 6 &  1028 & 11 &  10 & 0 & 0 &  11.25541 &  11.25541 & 1000.00000 & 1000.00000 & 150.0000 & 150.0000 & 0 & 0\\\\\n",
       "\t31 & mobile & Iron              & 5 &    3 &  0 &  0 & 6 &    12 &  4 &   4 & 0 & 0 & 300.00000 & 300.00000 &  100.00000 &  100.00000 & 100.0000 & 100.0000 & 0 & 0\\\\\n",
       "\\end{tabular}\n"
      ],
      "text/markdown": [
       "\n",
       "A data.frame: 6 × 20\n",
       "\n",
       "| <!--/--> | DeviceCategory &lt;chr&gt; | Browser &lt;chr&gt; | PreviousMonth &lt;dbl&gt; | PreviousSessions &lt;dbl&gt; | PreviousTransactions &lt;dbl&gt; | PreviousQTY &lt;dbl&gt; | RecentMonth &lt;dbl&gt; | RecentSessions &lt;dbl&gt; | RecentTransactions &lt;dbl&gt; | RecentQTY &lt;dbl&gt; | PreviousAddsToCart &lt;dbl&gt; | RecentAddsToCart &lt;dbl&gt; | MoMSessionsREL &lt;dbl&gt; | MoMSessionsABS &lt;dbl&gt; | MoMTransactionsREL &lt;dbl&gt; | MoMTransactionsABS &lt;dbl&gt; | MoMqtyREL &lt;dbl&gt; | MoMqtyABS &lt;dbl&gt; | MoMAddsToCartREL &lt;dbl&gt; | MoMAddsToCartABS &lt;dbl&gt; |\n",
       "|---|---|---|---|---|---|---|---|---|---|---|---|---|---|---|---|---|---|---|---|---|\n",
       "| 24 | mobile | Android Webview   | 5 | 7424 |  7 | 17 | 6 | 13073 | 54 |  69 | 0 | 0 |  76.09106 |  76.09106 |  671.42857 |  671.42857 | 305.8824 | 305.8824 | 0 | 0 |\n",
       "| 30 | mobile | Internet Explorer | 5 | 2731 | 28 | 36 | 6 |  1409 | 39 | 127 | 0 | 0 | -48.40718 |  48.40718 |   39.28571 |   39.28571 | 252.7778 | 252.7778 | 0 | 0 |\n",
       "| 48 | tablet | Edge              | 5 |   27 |  0 |  1 | 6 |    20 |  0 |   3 | 0 | 0 | -25.92593 |  25.92593 |    0.00000 |    0.00000 | 200.0000 | 200.0000 | 0 | 0 |\n",
       "| 56 | tablet | Samsung Internet  | 5 |  406 |  6 | 16 | 6 |   820 | 29 |  44 | 0 | 0 | 101.97044 | 101.97044 |  383.33333 |  383.33333 | 175.0000 | 175.0000 | 0 | 0 |\n",
       "| 45 | tablet | Android Webview   | 5 |  924 |  1 |  4 | 6 |  1028 | 11 |  10 | 0 | 0 |  11.25541 |  11.25541 | 1000.00000 | 1000.00000 | 150.0000 | 150.0000 | 0 | 0 |\n",
       "| 31 | mobile | Iron              | 5 |    3 |  0 |  0 | 6 |    12 |  4 |   4 | 0 | 0 | 300.00000 | 300.00000 |  100.00000 |  100.00000 | 100.0000 | 100.0000 | 0 | 0 |\n",
       "\n"
      ],
      "text/plain": [
       "   DeviceCategory Browser           PreviousMonth PreviousSessions\n",
       "24 mobile         Android Webview   5             7424            \n",
       "30 mobile         Internet Explorer 5             2731            \n",
       "48 tablet         Edge              5               27            \n",
       "56 tablet         Samsung Internet  5              406            \n",
       "45 tablet         Android Webview   5              924            \n",
       "31 mobile         Iron              5                3            \n",
       "   PreviousTransactions PreviousQTY RecentMonth RecentSessions\n",
       "24  7                   17          6           13073         \n",
       "30 28                   36          6            1409         \n",
       "48  0                    1          6              20         \n",
       "56  6                   16          6             820         \n",
       "45  1                    4          6            1028         \n",
       "31  0                    0          6              12         \n",
       "   RecentTransactions RecentQTY PreviousAddsToCart RecentAddsToCart\n",
       "24 54                  69       0                  0               \n",
       "30 39                 127       0                  0               \n",
       "48  0                   3       0                  0               \n",
       "56 29                  44       0                  0               \n",
       "45 11                  10       0                  0               \n",
       "31  4                   4       0                  0               \n",
       "   MoMSessionsREL MoMSessionsABS MoMTransactionsREL MoMTransactionsABS\n",
       "24  76.09106       76.09106       671.42857          671.42857        \n",
       "30 -48.40718       48.40718        39.28571           39.28571        \n",
       "48 -25.92593       25.92593         0.00000            0.00000        \n",
       "56 101.97044      101.97044       383.33333          383.33333        \n",
       "45  11.25541       11.25541      1000.00000         1000.00000        \n",
       "31 300.00000      300.00000       100.00000          100.00000        \n",
       "   MoMqtyREL MoMqtyABS MoMAddsToCartREL MoMAddsToCartABS\n",
       "24 305.8824  305.8824  0                0               \n",
       "30 252.7778  252.7778  0                0               \n",
       "48 200.0000  200.0000  0                0               \n",
       "56 175.0000  175.0000  0                0               \n",
       "45 150.0000  150.0000  0                0               \n",
       "31 100.0000  100.0000  0                0               "
      ]
     },
     "metadata": {},
     "output_type": "display_data"
    }
   ],
   "source": [
    "#ordering df to show most QTY, transactions, and sessions (relative) largest to smallest\n",
    "finaldf <- finaldf[order(-finaldf$MoMqtyREL, -finaldf$MoMTransactionsREL, -finaldf$MoMSessionsREL),]\n",
    "\n",
    "head(finaldf)"
   ]
  },
  {
   "cell_type": "code",
   "execution_count": 485,
   "metadata": {},
   "outputs": [],
   "source": [
    "#create workbook\n",
    "\n",
    "#options(openxlsx.borderStyle = \"thin\")\n",
    "#options(openxlsx.borderColour = \"#4F81BD\")\n",
    "wb <- createWorkbook()\n",
    "addWorksheet(wb,\"MonthMonth\")\n",
    "addWorksheet(wb, \"MonthDevice\")\n",
    "redstyle<-createStyle(fontColour = \"#9C0006\", bgFill = '#FFC7CE')\n",
    "greenstyle <- createStyle(fontColour = \"#006100\", bgFill = \"#C6EFCE\")\n",
    "graystyle <- createStyle(bgFill = '#B2BEB5')\n",
    "hstyle <- createStyle(halign = \"center\", fontSize = 14, bgFill = \"#FFFFFF\")\n",
    "cstyle <- createStyle(halign = \"center\")\n",
    "desktop <- createStyle(bgFill = '#ead1dc')\n",
    "tablet <- createStyle(bgFill = '#d5a6bd')\n",
    "mobile <- createStyle(bgFill = '#c27ba0')\n"
   ]
  },
  {
   "cell_type": "code",
   "execution_count": 486,
   "metadata": {},
   "outputs": [],
   "source": [
    "#adding data  to workbook with formatting\n",
    "writeData(wb,\"MonthMonth\", finaldf, headerStyle = hstyle)\n",
    "writeData(wb, \"MonthDevice\", DeviceSpecsShape)\n",
    "\n",
    "addStyle(wb, \"MonthMonth\", cstyle, rows = 1:60, cols = 1:20, gridExpand = TRUE)\n",
    "setColWidths(wb,\"MonthMonth\", cols = 1:20, width = 20)\n",
    "\n",
    "addStyle(wb, \"MonthDevice\", cstyle, rows = 1:13, cols = 1:13, gridExpand = TRUE)\n",
    "setColWidths(wb,\"MonthDevice\", cols = 1:13, width = 20)\n",
    "\n",
    "#MonthMonth\n",
    "conditionalFormatting(wb, \"MonthMonth\",\n",
    "                     cols = 1:20, \n",
    "                     rows = 2:60,\n",
    "                     rule = \"<0\",\n",
    "                     style = redstyle)\n",
    "conditionalFormatting(wb, \"MonthMonth\",\n",
    "                     cols = 1:20, \n",
    "                     rows = 2:60,\n",
    "                     rule = \">0\",\n",
    "                     style = greenstyle)\n",
    "conditionalFormatting(wb, \"MonthMonth\",\n",
    "                     cols = 1:20, \n",
    "                     rows = 2:60,\n",
    "                     rule = \"=0\",\n",
    "                     style = graystyle)\n",
    "conditionalFormatting(wb, \"MonthMonth\",\n",
    "                     cols = 1, \n",
    "                     rows = 1:60,\n",
    "                     rule = '=\"desktop\"',\n",
    "                     style = desktop)\n",
    "conditionalFormatting(wb, \"MonthMonth\",\n",
    "                     cols = 1, \n",
    "                     rows = 1:60,\n",
    "                     rule = '=\"mobile\"',\n",
    "                     style = mobile)\n",
    "conditionalFormatting(wb, \"MonthMonth\",\n",
    "                     cols = 1, \n",
    "                     rows = 1:60,\n",
    "                     rule = '=\"tablet\"',\n",
    "                     style = tablet)\n",
    "#monthDevice\n",
    "conditionalFormatting(wb, \"MonthDevice\",\n",
    "                     cols = 1:13, \n",
    "                     rows = 1,\n",
    "                     rule = '>0',\n",
    "                     style = tablet)\n",
    "conditionalFormatting(wb, \"MonthDevice\",\n",
    "                     cols = 1, \n",
    "                     rows = 1:13,\n",
    "                     rule = '>0',\n",
    "                     style = tablet)\n",
    "conditionalFormatting(wb, \"MonthDevice\",\n",
    "                     cols = 2:4, \n",
    "                     rows = 2:13,\n",
    "                     rule = '>500000',\n",
    "                     style = greenstyle)\n",
    "conditionalFormatting(wb, \"MonthDevice\",\n",
    "                     cols = 2:4, \n",
    "                     rows = 2:13,\n",
    "                     rule = '<300000',\n",
    "                     style = redstyle)\n",
    "conditionalFormatting(wb, \"MonthDevice\",\n",
    "                     cols = 5:7, \n",
    "                     rows = 2:13,\n",
    "                     rule = '>10000',\n",
    "                     style = greenstyle)\n",
    "conditionalFormatting(wb, \"MonthDevice\",\n",
    "                     cols = 5:7, \n",
    "                     rows = 2:13,\n",
    "                     rule = '<4000',\n",
    "                     style = redstyle)\n",
    "conditionalFormatting(wb, \"MonthDevice\",\n",
    "                     cols = 8:10, \n",
    "                     rows = 2:13,\n",
    "                     rule = '>30000',\n",
    "                     style = greenstyle)\n",
    "conditionalFormatting(wb, \"MonthDevice\",\n",
    "                     cols = 8:10, \n",
    "                     rows = 2:13,\n",
    "                     rule = '<5000',\n",
    "                     style = redstyle)\n",
    "conditionalFormatting(wb, \"MonthDevice\",\n",
    "                     cols = 11:13, \n",
    "                     rows = 2:13,\n",
    "                     rule = '>.032',\n",
    "                     style = greenstyle)\n",
    "conditionalFormatting(wb, \"MonthDevice\",\n",
    "                     cols = 11:13, \n",
    "                     rows = 2:13,\n",
    "                     rule = '<.02',\n",
    "                     style = redstyle)\n",
    "\n",
    "\n",
    "saveWorkbook(wb,\"IXIS.xlsx\", TRUE)\n"
   ]
  },
  {
   "cell_type": "markdown",
   "metadata": {},
   "source": [
    "# Creating some visualizations"
   ]
  },
  {
   "cell_type": "code",
   "execution_count": 487,
   "metadata": {},
   "outputs": [
    {
     "data": {
      "image/png": "[encoded data removed]",
      "text/plain": [
       "plot without title"
      ]
     },
     "metadata": {
      "image/png": {
       "height": 480,
       "width": 720
      }
     },
     "output_type": "display_data"
    }
   ],
   "source": [
    "#for the MonthDevice data\n",
    "MD2 <- MonthDevice %>% filter(month < 7)\n",
    "plot <- ggplot(MD2, aes(x = month, y = ECR, colour = dim_deviceCategory)) +\n",
    "  geom_line()+\n",
    "  labs(title = \"ECR in 2013 based on Device Type\",colour = \"Category\")\n",
    "plot\n",
    "\n"
   ]
  },
  {
   "cell_type": "code",
   "execution_count": 488,
   "metadata": {},
   "outputs": [],
   "source": [
    "#change plot size\n",
    "options(repr.plot.width = 12, repr.plot.height = 8)"
   ]
  },
  {
   "cell_type": "code",
   "execution_count": 489,
   "metadata": {},
   "outputs": [
    {
     "data": {
      "image/png": "[encoded data removed]",
      "text/plain": [
       "plot without title"
      ]
     },
     "metadata": {
      "image/png": {
       "height": 480,
       "width": 720
      }
     },
     "output_type": "display_data"
    }
   ],
   "source": [
    "#looking at MOMQTY relative trends\n",
    "\n",
    "momTrend <- finaldf[order(finaldf$MoMTransactionsREL), ]  \n",
    "momWorst<- head(momTrend,8)\n",
    "momBest <- tail(momTrend, 8)\n",
    "\n",
    "ggplot(momBest, aes(x=Browser, y=MoMTransactionsREL, fill = DeviceCategory)) + \n",
    "  geom_bar(stat=\"identity\", width=.5) + \n",
    "  labs(title=\"Browser Types with the Largest Growth\")+        \n",
    "  theme(axis.text.x = element_text(angle=65, vjust=0.6))"
   ]
  },
  {
   "cell_type": "code",
   "execution_count": 490,
   "metadata": {},
   "outputs": [
    {
     "data": {
      "image/png": "[encoded data removed]",
      "text/plain": [
       "plot without title"
      ]
     },
     "metadata": {
      "image/png": {
       "height": 480,
       "width": 720
      }
     },
     "output_type": "display_data"
    }
   ],
   "source": [
    "ggplot(momWorst, aes(x=Browser, y=MoMTransactionsREL, fill = DeviceCategory)) + \n",
    "  geom_bar(stat=\"identity\", width=.5) + \n",
    "  labs(title=\"Browser Types with the Largest Decline\")+        \n",
    "  theme(axis.text.x = element_text(angle=65, vjust=0.2))"
   ]
  }
 ],
 "metadata": {
  "kernelspec": {
   "display_name": "R",
   "language": "R",
   "name": "ir"
  },
  "language_info": {
   "codemirror_mode": "r",
   "file_extension": ".r",
   "mimetype": "text/x-r-source",
   "name": "R",
   "pygments_lexer": "r",
   "version": "3.6.1"
  }
 },
 "nbformat": 4,
 "nbformat_minor": 4
}
